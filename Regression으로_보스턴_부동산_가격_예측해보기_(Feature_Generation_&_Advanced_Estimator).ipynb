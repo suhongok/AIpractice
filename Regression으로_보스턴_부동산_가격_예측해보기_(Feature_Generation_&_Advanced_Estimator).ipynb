{
  "nbformat": 4,
  "nbformat_minor": 0,
  "metadata": {
    "colab": {
      "provenance": [],
      "include_colab_link": true
    },
    "kernelspec": {
      "name": "python3",
      "display_name": "Python 3"
    }
  },
  "cells": [
    {
      "cell_type": "markdown",
      "metadata": {
        "id": "view-in-github",
        "colab_type": "text"
      },
      "source": [
        "<a href=\"https://colab.research.google.com/github/suhongok/AIpractice/blob/main/Regression%EC%9C%BC%EB%A1%9C_%EB%B3%B4%EC%8A%A4%ED%84%B4_%EB%B6%80%EB%8F%99%EC%82%B0_%EA%B0%80%EA%B2%A9_%EC%98%88%EC%B8%A1%ED%95%B4%EB%B3%B4%EA%B8%B0_(Feature_Generation_%26_Advanced_Estimator).ipynb\" target=\"_parent\"><img src=\"https://colab.research.google.com/assets/colab-badge.svg\" alt=\"Open In Colab\"/></a>"
      ]
    },
    {
      "cell_type": "markdown",
      "metadata": {
        "id": "1hZHberpsKui"
      },
      "source": [
        "## 보스턴 부동산 데이터의 특징들(Features)\n",
        "1. CRIM: 도시별 범죄발생률\n",
        "2. ZN: 25,000평을 넘는 토지의 비율\n",
        "3. INDUS: 도시별 비상업 지구의 비유\n",
        "4. CHAS: 찰스 강의 더미 변수(1 = 강의 경계, 0 = 나머지)\n",
        "5. NOX: 일산화질소 농도\n",
        "6. RM: 주거할 수 있는 평균 방의개수\n",
        "7. AGE: 1940년 이전에 지어진 주택의 비율\n",
        "8. DIS: 5개의 고용지원센터까지의 가중치가 고려된 거리\n",
        "9. RAD: 고속도로의 접근 용이성에 대한 지표\n",
        "10. TAX: 10,000달러당 재산세 비율\n",
        "11. PTRATIO: 도시별 교사와 학생의 비율 \n",
        "12. B: 도시의 흑인 거주 비유\n",
        "13. LSTAT: 저소득층의 비율\n",
        "14. MEDV: 본인 소유 주택 가격의 중앙값"
      ]
    },
    {
      "cell_type": "code",
      "metadata": {
        "id": "mYbI22j4sSUf"
      },
      "source": [
        "import pandas as pd\n",
        "import matplotlib.pyplot as plt\n",
        "import seaborn as sns\n",
        "from sklearn.datasets import load_boston\n",
        "import numpy as np\n",
        "from sklearn.linear_model import LinearRegression\n",
        "from sklearn.model_selection import train_test_split\n",
        "from sklearn.metrics import mean_squared_error"
      ],
      "execution_count": null,
      "outputs": []
    },
    {
      "cell_type": "code",
      "metadata": {
        "id": "htSK1PutfSdi"
      },
      "source": [
        "np.random.seed(42)"
      ],
      "execution_count": null,
      "outputs": []
    },
    {
      "cell_type": "code",
      "metadata": {
        "id": "HH79s8ajw9Gl"
      },
      "source": [
        "from sklearn.preprocessing import MinMaxScaler, PolynomialFeatures\n",
        "\n",
        "# make extend boston dataset\n",
        "# Refernce : https://github.com/amueller/mglearn/blob/master/mglearn/datasets.py#L30\n",
        "def load_extended_boston():\n",
        "    boston = load_boston()\n",
        "    X = boston.data\n",
        "\n",
        "    X = MinMaxScaler().fit_transform(boston.data)\n",
        "    X = PolynomialFeatures(degree=2, include_bias=False).fit_transform(X)\n",
        "\n",
        "    return X, boston.target"
      ],
      "execution_count": null,
      "outputs": []
    },
    {
      "cell_type": "code",
      "metadata": {
        "colab": {
          "base_uri": "https://localhost:8080/"
        },
        "id": "UO6grkpFpkbX",
        "outputId": "1fbc7cf1-3d32-4590-aa07-b9db2a4db77e"
      },
      "source": [
        "# 특징이 확장된 보스턴 부동산 가격 데이터 불러오기\n",
        "X, y = load_extended_boston()\n",
        "print(X)\n",
        "print(y)\n",
        "print('Extended Feature Shape :', X.shape)"
      ],
      "execution_count": null,
      "outputs": [
        {
          "output_type": "stream",
          "text": [
            "[[0.00000000e+00 1.80000000e-01 6.78152493e-02 ... 1.00000000e+00\n",
            "  8.96799117e-02 8.04248656e-03]\n",
            " [2.35922539e-04 0.00000000e+00 2.42302053e-01 ... 1.00000000e+00\n",
            "  2.04470199e-01 4.18080621e-02]\n",
            " [2.35697744e-04 0.00000000e+00 2.42302053e-01 ... 9.79579831e-01\n",
            "  6.28144504e-02 4.02790570e-03]\n",
            " ...\n",
            " [6.11892474e-04 0.00000000e+00 4.20454545e-01 ... 1.00000000e+00\n",
            "  1.07891832e-01 1.16406475e-02]\n",
            " [1.16072990e-03 0.00000000e+00 4.20454545e-01 ... 9.82676920e-01\n",
            "  1.29930407e-01 1.71795127e-02]\n",
            " [4.61841693e-04 0.00000000e+00 4.20454545e-01 ... 1.00000000e+00\n",
            "  1.69701987e-01 2.87987643e-02]]\n",
            "[24.  21.6 34.7 33.4 36.2 28.7 22.9 27.1 16.5 18.9 15.  18.9 21.7 20.4\n",
            " 18.2 19.9 23.1 17.5 20.2 18.2 13.6 19.6 15.2 14.5 15.6 13.9 16.6 14.8\n",
            " 18.4 21.  12.7 14.5 13.2 13.1 13.5 18.9 20.  21.  24.7 30.8 34.9 26.6\n",
            " 25.3 24.7 21.2 19.3 20.  16.6 14.4 19.4 19.7 20.5 25.  23.4 18.9 35.4\n",
            " 24.7 31.6 23.3 19.6 18.7 16.  22.2 25.  33.  23.5 19.4 22.  17.4 20.9\n",
            " 24.2 21.7 22.8 23.4 24.1 21.4 20.  20.8 21.2 20.3 28.  23.9 24.8 22.9\n",
            " 23.9 26.6 22.5 22.2 23.6 28.7 22.6 22.  22.9 25.  20.6 28.4 21.4 38.7\n",
            " 43.8 33.2 27.5 26.5 18.6 19.3 20.1 19.5 19.5 20.4 19.8 19.4 21.7 22.8\n",
            " 18.8 18.7 18.5 18.3 21.2 19.2 20.4 19.3 22.  20.3 20.5 17.3 18.8 21.4\n",
            " 15.7 16.2 18.  14.3 19.2 19.6 23.  18.4 15.6 18.1 17.4 17.1 13.3 17.8\n",
            " 14.  14.4 13.4 15.6 11.8 13.8 15.6 14.6 17.8 15.4 21.5 19.6 15.3 19.4\n",
            " 17.  15.6 13.1 41.3 24.3 23.3 27.  50.  50.  50.  22.7 25.  50.  23.8\n",
            " 23.8 22.3 17.4 19.1 23.1 23.6 22.6 29.4 23.2 24.6 29.9 37.2 39.8 36.2\n",
            " 37.9 32.5 26.4 29.6 50.  32.  29.8 34.9 37.  30.5 36.4 31.1 29.1 50.\n",
            " 33.3 30.3 34.6 34.9 32.9 24.1 42.3 48.5 50.  22.6 24.4 22.5 24.4 20.\n",
            " 21.7 19.3 22.4 28.1 23.7 25.  23.3 28.7 21.5 23.  26.7 21.7 27.5 30.1\n",
            " 44.8 50.  37.6 31.6 46.7 31.5 24.3 31.7 41.7 48.3 29.  24.  25.1 31.5\n",
            " 23.7 23.3 22.  20.1 22.2 23.7 17.6 18.5 24.3 20.5 24.5 26.2 24.4 24.8\n",
            " 29.6 42.8 21.9 20.9 44.  50.  36.  30.1 33.8 43.1 48.8 31.  36.5 22.8\n",
            " 30.7 50.  43.5 20.7 21.1 25.2 24.4 35.2 32.4 32.  33.2 33.1 29.1 35.1\n",
            " 45.4 35.4 46.  50.  32.2 22.  20.1 23.2 22.3 24.8 28.5 37.3 27.9 23.9\n",
            " 21.7 28.6 27.1 20.3 22.5 29.  24.8 22.  26.4 33.1 36.1 28.4 33.4 28.2\n",
            " 22.8 20.3 16.1 22.1 19.4 21.6 23.8 16.2 17.8 19.8 23.1 21.  23.8 23.1\n",
            " 20.4 18.5 25.  24.6 23.  22.2 19.3 22.6 19.8 17.1 19.4 22.2 20.7 21.1\n",
            " 19.5 18.5 20.6 19.  18.7 32.7 16.5 23.9 31.2 17.5 17.2 23.1 24.5 26.6\n",
            " 22.9 24.1 18.6 30.1 18.2 20.6 17.8 21.7 22.7 22.6 25.  19.9 20.8 16.8\n",
            " 21.9 27.5 21.9 23.1 50.  50.  50.  50.  50.  13.8 13.8 15.  13.9 13.3\n",
            " 13.1 10.2 10.4 10.9 11.3 12.3  8.8  7.2 10.5  7.4 10.2 11.5 15.1 23.2\n",
            "  9.7 13.8 12.7 13.1 12.5  8.5  5.   6.3  5.6  7.2 12.1  8.3  8.5  5.\n",
            " 11.9 27.9 17.2 27.5 15.  17.2 17.9 16.3  7.   7.2  7.5 10.4  8.8  8.4\n",
            " 16.7 14.2 20.8 13.4 11.7  8.3 10.2 10.9 11.   9.5 14.5 14.1 16.1 14.3\n",
            " 11.7 13.4  9.6  8.7  8.4 12.8 10.5 17.1 18.4 15.4 10.8 11.8 14.9 12.6\n",
            " 14.1 13.  13.4 15.2 16.1 17.8 14.9 14.1 12.7 13.5 14.9 20.  16.4 17.7\n",
            " 19.5 20.2 21.4 19.9 19.  19.1 19.1 20.1 19.9 19.6 23.2 29.8 13.8 13.3\n",
            " 16.7 12.  14.6 21.4 23.  23.7 25.  21.8 20.6 21.2 19.1 20.6 15.2  7.\n",
            "  8.1 13.6 20.1 21.8 24.5 23.1 19.7 18.3 21.2 17.5 16.8 22.4 20.6 23.9\n",
            " 22.  11.9]\n",
            "Extended Feature Shape : (506, 104)\n"
          ],
          "name": "stdout"
        }
      ]
    },
    {
      "cell_type": "markdown",
      "metadata": {
        "id": "PJhn-puIyR-v"
      },
      "source": [
        "## baseline 성능\n",
        "Regression으로_보스턴_부동산_가격_예측해보기 (EDA & Feature Selection).ipynb : https://colab.research.google.com/drive/1Kjf7mx2ZVIQGVcL5zQDbGBPJ0o_LJY0m?usp=sharing\n",
        "#### baseline #1 - Average MSE : 37.13180746769903 (기본 Linear Regression)\n",
        "#### baseline #2 - Average MSE : 34.10008149030686 (기본 Linear Regression + Feature Selection 적용)"
      ]
    },
    {
      "cell_type": "code",
      "metadata": {
        "colab": {
          "base_uri": "https://localhost:8080/"
        },
        "id": "z16u9aBJc52z",
        "outputId": "3178de06-352e-43c5-a2d3-fe7a48071cd7"
      },
      "source": [
        "from sklearn.model_selection import KFold\n",
        "\n",
        "num_split = 5\n",
        "kf = KFold(n_splits=num_split)\n",
        "\n",
        "avg_MSE = 0.0\n",
        "for train_index, test_index in kf.split(X):\n",
        "  X_train, X_test = X[train_index], X[test_index]\n",
        "  y_train, y_test = y[train_index], y[test_index]\n",
        "  # 선형회귀(Linear Regression) 모델 선언하기\n",
        "  lr = LinearRegression()\n",
        "\n",
        "  # 선형회귀(Linear Regression) 모델 학습하기\n",
        "  lr.fit(X_train, y_train)\n",
        "\n",
        "  # 테스트 데이터에 대한 예측을 수행합니다.\n",
        "  y_pred = lr.predict(X_test)\n",
        "\n",
        "  # MSE(Mean Squared Error)를 측정합니다.\n",
        "  avg_MSE = avg_MSE + mean_squared_error(y_test, y_pred)\n",
        "\n",
        "print('Average MSE :', avg_MSE/num_split)\n",
        "print('Avergae RMSE :', np.sqrt(avg_MSE/num_split))"
      ],
      "execution_count": null,
      "outputs": [
        {
          "output_type": "stream",
          "text": [
            "Average MSE : 131.74003779482732\n",
            "Avergae RMSE : 11.477806314571932\n"
          ],
          "name": "stdout"
        }
      ]
    },
    {
      "cell_type": "code",
      "metadata": {
        "colab": {
          "base_uri": "https://localhost:8080/"
        },
        "id": "hq6BDD0Uc-QK",
        "outputId": "7ee2408a-5e8c-4bf0-804f-d59870d32434"
      },
      "source": [
        "from sklearn.linear_model import Ridge\n",
        "\n",
        "num_split = 5\n",
        "kf = KFold(n_splits=num_split)\n",
        "\n",
        "avg_MSE = 0.0\n",
        "for train_index, test_index in kf.split(X):\n",
        "  X_train, X_test = X[train_index], X[test_index]\n",
        "  y_train, y_test = y[train_index], y[test_index]\n",
        "  # 선형회귀(Linear Regression) 모델 선언하기\n",
        "  ridge_reg = Ridge(alpha=0.8)\n",
        "\n",
        "  # 선형회귀(Linear Regression) 모델 학습하기\n",
        "  ridge_reg.fit(X_train, y_train)\n",
        "\n",
        "  # 테스트 데이터에 대한 예측을 수행합니다.\n",
        "  y_pred = ridge_reg.predict(X_test)\n",
        "\n",
        "  # MSE(Mean Squared Error)를 측정합니다.\n",
        "  avg_MSE = avg_MSE + mean_squared_error(y_test, y_pred)\n",
        "\n",
        "print('Average MSE :', avg_MSE/num_split)\n",
        "print('Avergae RMSE :', np.sqrt(avg_MSE/num_split))"
      ],
      "execution_count": null,
      "outputs": [
        {
          "output_type": "stream",
          "text": [
            "Average MSE : 21.413112479618995\n",
            "Avergae RMSE : 4.627430440278816\n"
          ],
          "name": "stdout"
        }
      ]
    },
    {
      "cell_type": "code",
      "metadata": {
        "colab": {
          "base_uri": "https://localhost:8080/"
        },
        "id": "RnKxQDvaeYii",
        "outputId": "19288a10-82b1-4b52-d58a-d2a716acf82f"
      },
      "source": [
        "from sklearn.linear_model import Lasso\n",
        "\n",
        "num_split = 5\n",
        "kf = KFold(n_splits=num_split)\n",
        "\n",
        "avg_MSE = 0.0\n",
        "for train_index, test_index in kf.split(X):\n",
        "  X_train, X_test = X[train_index], X[test_index]\n",
        "  y_train, y_test = y[train_index], y[test_index]\n",
        "  # 선형회귀(Linear Regression) 모델 선언하기\n",
        "  lasso_reg = Lasso(alpha=0.025)\n",
        "\n",
        "  # 선형회귀(Linear Regression) 모델 학습하기\n",
        "  lasso_reg.fit(X_train, y_train)\n",
        "\n",
        "  # 테스트 데이터에 대한 예측을 수행합니다.\n",
        "  y_pred = lasso_reg.predict(X_test)\n",
        "\n",
        "  # MSE(Mean Squared Error)를 측정합니다.\n",
        "  avg_MSE = avg_MSE + mean_squared_error(y_test, y_pred)\n",
        "\n",
        "print('Average MSE :', avg_MSE/num_split)\n",
        "print('Avergae RMSE :', np.sqrt(avg_MSE/num_split))"
      ],
      "execution_count": null,
      "outputs": [
        {
          "output_type": "stream",
          "text": [
            "Average MSE : 22.698063582432393\n",
            "Avergae RMSE : 4.764248480341091\n"
          ],
          "name": "stdout"
        }
      ]
    },
    {
      "cell_type": "code",
      "metadata": {
        "colab": {
          "base_uri": "https://localhost:8080/"
        },
        "id": "H87FCinQet15",
        "outputId": "245259ba-61a1-451c-c98d-5ccb90573c9b"
      },
      "source": [
        "from sklearn.linear_model import ElasticNet\n",
        "\n",
        "num_split = 5\n",
        "kf = KFold(n_splits=num_split)\n",
        "\n",
        "avg_MSE = 0.0\n",
        "for train_index, test_index in kf.split(X):\n",
        "  X_train, X_test = X[train_index], X[test_index]\n",
        "  y_train, y_test = y[train_index], y[test_index]\n",
        "  # 선형회귀(Linear Regression) 모델 선언하기\n",
        "  elasticnet_reg = ElasticNet(alpha=0.003)\n",
        "\n",
        "  # 선형회귀(Linear Regression) 모델 학습하기\n",
        "  elasticnet_reg.fit(X_train, y_train)\n",
        "\n",
        "  # 테스트 데이터에 대한 예측을 수행합니다.\n",
        "  y_pred = elasticnet_reg.predict(X_test)\n",
        "\n",
        "  # MSE(Mean Squared Error)를 측정합니다.\n",
        "  avg_MSE = avg_MSE + mean_squared_error(y_test, y_pred)\n",
        "\n",
        "print('Average MSE :', avg_MSE/num_split)\n",
        "print('Avergae RMSE :', np.sqrt(avg_MSE/num_split))"
      ],
      "execution_count": null,
      "outputs": [
        {
          "output_type": "stream",
          "text": [
            "/usr/local/lib/python3.7/dist-packages/sklearn/linear_model/_coordinate_descent.py:476: ConvergenceWarning: Objective did not converge. You might want to increase the number of iterations. Duality gap: 1723.8448061911533, tolerance: 3.919148542079209\n",
            "  positive)\n",
            "/usr/local/lib/python3.7/dist-packages/sklearn/linear_model/_coordinate_descent.py:476: ConvergenceWarning: Objective did not converge. You might want to increase the number of iterations. Duality gap: 1557.3384021029783, tolerance: 3.3071316790123473\n",
            "  positive)\n",
            "/usr/local/lib/python3.7/dist-packages/sklearn/linear_model/_coordinate_descent.py:476: ConvergenceWarning: Objective did not converge. You might want to increase the number of iterations. Duality gap: 1150.3818024933425, tolerance: 2.813643886419753\n",
            "  positive)\n"
          ],
          "name": "stderr"
        },
        {
          "output_type": "stream",
          "text": [
            "Average MSE : 21.260016353318818\n",
            "Avergae RMSE : 4.61085852670832\n"
          ],
          "name": "stdout"
        },
        {
          "output_type": "stream",
          "text": [
            "/usr/local/lib/python3.7/dist-packages/sklearn/linear_model/_coordinate_descent.py:476: ConvergenceWarning: Objective did not converge. You might want to increase the number of iterations. Duality gap: 486.29194580949115, tolerance: 3.3071762123456785\n",
            "  positive)\n",
            "/usr/local/lib/python3.7/dist-packages/sklearn/linear_model/_coordinate_descent.py:476: ConvergenceWarning: Objective did not converge. You might want to increase the number of iterations. Duality gap: 645.5158835430329, tolerance: 3.480910444444445\n",
            "  positive)\n"
          ],
          "name": "stderr"
        }
      ]
    },
    {
      "cell_type": "code",
      "metadata": {
        "id": "4MKjwvWKs0oS"
      },
      "source": [],
      "execution_count": null,
      "outputs": []
    }
  ]
}