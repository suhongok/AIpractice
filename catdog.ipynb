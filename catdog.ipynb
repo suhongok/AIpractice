{
  "cells": [
    {
      "cell_type": "markdown",
      "metadata": {
        "id": "view-in-github",
        "colab_type": "text"
      },
      "source": [
        "<a href=\"https://colab.research.google.com/github/suhongok/AIpractice/blob/main/catdog.ipynb\" target=\"_parent\"><img src=\"https://colab.research.google.com/assets/colab-badge.svg\" alt=\"Open In Colab\"/></a>"
      ]
    },
    {
      "cell_type": "markdown",
      "metadata": {
        "id": "e88FgzuPESkh"
      },
      "source": [
        "<div class=\"StepPage_center__76TTk\"><div class=\"ParserV2_parserV2__DYPIG\"><div class=\"sc-jKJlTe eWxZch contents__title\"><h1 class=\"hchang-content__head\"> 1. 고양이와 개</h1></div><div><div class=\"MarkdownView_markdownView__loFxX\"><h3>학습 전제</h3>\n",
        "<hr/>\n",
        "<ul>\n",
        "<li>머신러닝 또는 딥러닝을 활용해서 데이터를 분류(classification)하는 문제를 풀어봤다.</li>\n",
        "<li>텐서플로우(TensorFlow)가 무엇인지 알며, 이를 활용해서 머신러닝/딥러닝 문제를 풀어봤다.</li>\n",
        "<li>이미지 분류를 하는 CNN 계열의 Backbone 모델을 다뤄보지 않았다.</li>\n",
        "<li>python의 기본적인 문법을 알며, 함수 또는 클래스를 다룰 수 있다.</li>\n",
        "</ul>\n",
        "<h3>학습 목표</h3>\n",
        "<hr/>\n",
        "<ul>\n",
        "<li>이미지를 분류할 때 이미 잘 학습되어 있는 모델을 사용한다는 아이디어를 떠올릴 수 있다.</li>\n",
        "<li>사전학습 모델인 Backbone 모델의 종류와 개념을 알고, Transfer Learning의 개념을 설명할 수 있다.</li>\n",
        "<li>VGG, ResNet과 같은 기본적인 Backbone 모델을 불러와서 사용할 수 있다.</li>\n",
        "<li>Backbone 모델을 원하는 레이어(layer)만큼 새로 학습시켜서 사용할 수 있다.</li>\n",
        "<li>Backbone 모델을 Transfer Learning 시킴으로써 원하는 이미지를 분류시킬 수 있다.</li>\n",
        "</ul>\n",
        "<h3>목차</h3>\n",
        "<hr/>\n",
        "<h4>내가 직접 만드는 강아지 고양이 분류기</h4>\n",
        "<ul>\n",
        "<li>이미지 분류 문제</li>\n",
        "<li>모델이 학습하려면? 공부할 데이터를 줘야지!</li>\n",
        "<li>데이터가 있다고 끝은 아니야, 이쁘게 다듬는 작업은 필수!</li>\n",
        "<li>데이터가 준비되었으니, 이제 모델을 만들어보자</li>\n",
        "<li>모델아 모델아, 데이터를 먹고 똑똑해지렴!</li>\n",
        "<li>모델은 얼마나 똑똑해졌을까? 확인해 보자!</li>\n",
        "</ul>\n",
        "<h4>내가 직접 만들지 않고 가져다 쓰는 강아지 고양이 분류기</h4>\n",
        "<ul>\n",
        "<li>어려운 문제는 직접 풀지 말자, 똑똑한 누군가가 이미 풀어놨을 테니!</li>\n",
        "<li>아주 똑똑한 모델을 간단히 가져오는 방법</li>\n",
        "<li>모델의 마지막 부분만, 내 입맛대로 재구성하기</li>\n",
        "<li>거인의 어깨에 올라타서 예측하니, 더 잘 예측할 수밖에!</li>\n",
        "<li>잘 학습된 모델은 저장해두고, 언제든 꺼내 쓰도록 하자!</li>\n",
        "<li>거울아 거울아, 나는 멍멍이 상이니, 아니면 냥이 상이니?</li>\n",
        "</ul>\n",
        "<h4>프로젝트: 새로운 데이터셋(dataset)으로 나만의 이미지 분류기 만들어보기</h4>\n",
        "<ul>\n",
        "<li>데이터셋 선택하기</li>\n",
        "<li>데이터셋을 모델에 넣을 수 있는 형태로 준비하기</li>\n",
        "<li>모델 설계하기</li>\n",
        "<li>모델 학습시키기</li>\n",
        "<li>모델 성능 평가하기</li>\n",
        "<li>모델 활용하기</li>\n",
        "</ul></div><div class=\"MarkdownView_markdownView__loFxX\"><blockquote>\n",
        "<p>❗실습 전 한 가지 주의할 점!</p>\n",
        "<p>실습 중 관련 패키지 버전 등의 이유로 경고 메시지가 출력될 수 있습니다.</p>\n",
        "<p>아래 코드를 실행해 꼭 필요한 메시지 외 경고 메시지가 출력되지 않도록 해주세요.</p>\n",
        "</blockquote></div><div id=\"block-56a89c12-8e79-4f45-bd 951f9ef30577-jupyter_block\">"
      ]
    },
    {
      "cell_type": "code",
      "execution_count": null,
      "metadata": {
        "colab": {
          "base_uri": "https://localhost:8080/"
        },
        "id": "zce0vNYdESkm",
        "outputId": "26ac7b3c-58a5-4717-e082-ea963766fd29"
      },
      "outputs": [
        {
          "name": "stdout",
          "output_type": "stream",
          "text": [
            "완료!\n"
          ]
        }
      ],
      "source": [
        "import warnings\n",
        "warnings.filterwarnings(\"ignore\")\n",
        "\n",
        "print(\"완료!\")\n"
      ]
    },
    {
      "cell_type": "markdown",
      "metadata": {
        "id": "EASDh0wEESko"
      },
      "source": [
        "</div></div></div>"
      ]
    },
    {
      "cell_type": "markdown",
      "metadata": {
        "id": "BUYDVS6zESkp"
      },
      "source": [
        "<div class=\"StepPage_center__76TTk\"><div class=\"ParserV2_parserV2__DYPIG\"><div class=\"sc-jKJlTe eWxZch contents__title\"><h1 class=\"hchang-content__head\"> 2. 내가 직접 만드는 강아지 고양이 분류기 (1) 이미지 분류 문제</h1></div><div><div class=\"MarkdownView_markdownView__loFxX\"><p>안녕하세요! 즐거운 딥러닝 실습 시간입니다.</p>\n",
        "<p>여러분은 자신을 강아지 상이라고 생각하시나요, 아니면 고양이 상이라고 생각하시나요? 혹은, 주변 사람들은 어떻게 이야기하나요?</p>\n",
        "<p>오늘은! 사람이 아닌 기계가 여러분의 사진을 분류하는 실습을 해 보겠습니다. 기계에게 강아지와 고양이 이미지를 학습시켜서 내 사진을 넣으면 어떤 판단을 하는지 확인해 보는 거죠!</p>\n",
        "<p>어떤 결과가 나올지, 벌써부터 기대되지 않나요?!</p>\n",
        "<p>자, 바로 실습을 시작해 보겠습니다. 앞으로 이미지를 넣었을 때 강아지인지, 고양이인지 분류하는 모델을 만들 것입니다.</p>\n",
        "<p>텐서플로우(TensorFlow)를 활용해서 이미지를 분류할 수 있는 모델을 설계해 보겠습니다.</p>\n",
        "<p>다음 코드를 실행해볼까요?</p></div><div id=\"block-75c02674-8ab6-48f2-a936-2192d5555563-jupyter_block\">"
      ]
    },
    {
      "cell_type": "code",
      "execution_count": null,
      "metadata": {
        "id": "Nz5FuBHlESkp"
      },
      "outputs": [],
      "source": [
        "import tensorflow as tf\n",
        "print(tf.__version__)\n"
      ]
    },
    {
      "cell_type": "markdown",
      "metadata": {
        "id": "bV66AyoIESkq"
      },
      "source": [
        "<div class=\"StepPage_center__76TTk\"><div class=\"ParserV2_parserV2__DYPIG\"><div class=\"sc-jKJlTe eWxZch contents__title\"><h1 class=\"hchang-content__head\"> 3. 내가 직접 만드는 강아지 고양이 분류기 (2) 모델이 학습하려면? 공부할 데이터를 줘야지!</h1></div><div><div class=\"MarkdownView_markdownView__loFxX\"><h3>모델 학습을 위한 데이터셋(dataset) 준비하기</h3>\n",
        "<hr/>\n",
        "<p>가장 먼저 강아지와 고양이 이미지 데이터가 필요하겠죠! 텐서플로우에서 제공하는 데이터셋을 사용할 것입니다.</p>\n",
        "<p>클라우드 사용자는 <code>tensorflow_datasets</code> 패키지가 이미 설치되어 있으므로 바로 패키지를 로드해 보겠습니다.</p></div><div id=\"block-202e6374-8c7e-45dd-a504-e94c97d602ce-jupyter_block\">"
      ]
    },
    {
      "cell_type": "code",
      "execution_count": null,
      "metadata": {
        "colab": {
          "base_uri": "https://localhost:8080/",
          "height": 35
        },
        "id": "jizqZQBEESkq",
        "outputId": "b13f5815-4361-42b0-b06c-b0d584e35d52"
      },
      "outputs": [
        {
          "data": {
            "application/vnd.google.colaboratory.intrinsic+json": {
              "type": "string"
            },
            "text/plain": [
              "'4.6.0'"
            ]
          },
          "execution_count": 3,
          "metadata": {},
          "output_type": "execute_result"
        }
      ],
      "source": [
        "import tensorflow_datasets as tfds\n",
        "\n",
        "tfds.__version__\n"
      ]
    },
    {
      "cell_type": "code",
      "execution_count": null,
      "metadata": {
        "id": "XgzUu2E8ESkr"
      },
      "outputs": [],
      "source": []
    },
    {
      "cell_type": "markdown",
      "metadata": {
        "id": "RIlvy-5VESks"
      },
      "source": [
        "</div><div id=\"block-32ddc4a6-113e-47b9-b391-a50a68b4b87f-jupyter_block\">"
      ]
    },
    {
      "cell_type": "code",
      "execution_count": null,
      "metadata": {
        "id": "5fwgReqKESks"
      },
      "outputs": [],
      "source": [
        "(raw_train, raw_validation, raw_test), metadata = tfds.load(name='cats_vs_dogs',\n",
        "    split=['train[:80%]', 'train[80%:90%]', 'train[90%:]'],\n",
        "    download=True,\n",
        "    with_info=True,\n",
        "    as_supervised=True,)\n"
      ]
    },
    {
      "cell_type": "code",
      "execution_count": null,
      "metadata": {
        "colab": {
          "base_uri": "https://localhost:8080/"
        },
        "id": "LapvxeQqESkt",
        "outputId": "29827f3a-f70b-4a1c-d188-ea61603a293e"
      },
      "outputs": [
        {
          "name": "stdout",
          "output_type": "stream",
          "text": [
            "<PrefetchDataset element_spec=(TensorSpec(shape=(None, None, 3), dtype=tf.uint8, name=None), TensorSpec(shape=(), dtype=tf.int64, name=None))>\n"
          ]
        }
      ],
      "source": [
        "print(raw_train)\n"
      ]
    },
    {
      "cell_type": "markdown",
      "metadata": {
        "id": "j9EFDodgESku"
      },
      "source": [
        "</div><div class=\"MarkdownView_markdownView__loFxX\"><p>각 데이터셋의 형태가 잘 출력되었군요.</p>\n",
        "<p>모든 데이터셋은 <code>(image, label)</code>의 형태를 가집니다. <code>((None, None, 3), ())</code>가 이를 나타내죠. 여기에서 앞에 있는 <code>(None, None, 3)</code>은 image의 shape를, 뒤의 <code>()</code>는 정답 카테고리인 label의 shape를 의미합니다.</p>\n",
        "<p>이미지는 <code>(height, width, channel)</code>로 3차원 데이터이기 때문에 <code>(None, None, 3)</code>과 같이 나타났습니다. 이때 <code>height</code>와 <code>width</code>가 <code>None</code>으로 나타난 이유는 무엇일까요?</p>\n",
        "<p>잠시 뒤에 확인하겠지만, 모든 이미지의 크기가 전부 다르기 때문입니다. 정해져 있지 않은 사이즈이기 때문에 <code>None</code>으로 나타낸 거죠.</p>\n",
        "<p>그렇다면 <code>3</code>이라는 숫자는 무엇을 나타낼까요?</p>\n",
        "<p>이미지의 색을 표현하는 채널의 수를 나타냅니다. 컬러 이미지의 경우, 색은 RGB의 세 가지 색 조합으로 나타낼 수 있다는 것을 알고 있을 겁니다. 이미지를 컴퓨터상에 나타낼 때, 각 픽셀(pixel)의 색은 RGB의 세 가지 색의 조합으로 나타나기 때문에 컬러 이미지는 항상 3개의 채널을 가지고 있어야 하죠.<br/>\n",
        "반면, 흑백 이미지는 white/black만 나타내면 되므로 단 하나의 채널만 있어도 충분합니다.</p>\n",
        "<p>label은 특정 이미지가 강아지인지, 혹은 고양이인지를 나타내는 단일 값입니다. 단순히 1차원의 숫자 하나로 표현될 수 있기 때문에 차원이 따로 나타나지 않았습니다.</p></div></div></div>"
      ]
    },
    {
      "cell_type": "markdown",
      "metadata": {
        "id": "sLSnOXIUESku"
      },
      "source": [
        "<div class=\"StepPage_center__76TTk\"><div class=\"ParserV2_parserV2__DYPIG\"><div class=\"sc-jKJlTe eWxZch contents__title\"><h1 class=\"hchang-content__head\"> 4. 내가 직접 만드는 강아지 고양이 분류기 (3) 데이터가 있다고 끝은 아니야, 이쁘게 다듬는 작업은 필수!</h1></div><div><div class=\"MarkdownView_markdownView__loFxX\"><h3>데이터 시각화를 통해 확인하고, 모델에 입력할 수 있는 형태로 전처리하기</h3>\n",
        "<hr/>\n",
        "<p>데이터에 대한 설명은 이 정도면 충분한 것 같으니, 바로 데이터를 직접 확인해봅시다. 일단 데이터를 확인하기 위해 <code>matplotlib</code> 라이브러리를 가져오겠습니다.</p></div><div id=\"block-a9ddbcb1-ba73-431a-84df-f5986436c64f-jupyter_block\">"
      ]
    },
    {
      "cell_type": "code",
      "execution_count": null,
      "metadata": {
        "id": "J4tiwF4BESku"
      },
      "outputs": [],
      "source": [
        "import matplotlib.pyplot as plt\n",
        "%matplotlib inline\n",
        "%config InlineBackend.figure_format = 'retina'\n",
        "\n",
        "print(\"슝~\")\n"
      ]
    },
    {
      "cell_type": "markdown",
      "metadata": {
        "id": "pd7nm35qESkv"
      },
      "source": [
        "</div><div class=\"MarkdownView_markdownView__loFxX\"><p><code>raw_train</code> 안에 있는 데이터를 확인해 보기 위해 <code>tf.data.Dataset</code>에서 제공하는 <code>take</code>라는 함수를 사용해 보겠습니다. 이 함수는 인수로 받은 만큼의 개수만큼의 데이터를 추출하여 새로운 데이터셋 인스턴스를 생성하여 리턴하는 함수입니다.</p>\n",
        "<p>그럼 바로 다음 코드를 실행 시켜 보세요.</p></div><div id=\"block-85c3e2b0-e3c1-442d-b254-ea083c7e169e-jupyter_block\">"
      ]
    },
    {
      "cell_type": "code",
      "execution_count": null,
      "metadata": {
        "id": "mtGHJh2cESkv"
      },
      "outputs": [],
      "source": [
        "plt.figure(figsize=(20, 10))\n",
        "\n",
        "get_label_name = metadata.features['label'].int2str\n",
        "\n",
        "for idx, (image, label) in enumerate(raw_train.take(10)):  # 10개의 데이터를 가져 옵니다.\n",
        "    plt.subplot(2, 5, idx+1)\n",
        "    plt.imshow(image)\n",
        "    plt.title(f'label {label}: {get_label_name(label)}')\n",
        "    plt.axis('off')\n"
      ]
    },
    {
      "cell_type": "markdown",
      "metadata": {
        "id": "WI53mixCESkv"
      },
      "source": [
        "</div><div class=\"MarkdownView_markdownView__loFxX\"><p>10장의 사진을 확인해 보니 귀여운 강아지와 고양이 이미지들이 잘 섞여 있네요!</p>\n",
        "<p>강아지는 <code>label 1</code>로, 고양이는 <code>label 0</code>으로 설정되어 있군요. 앞서 설명했듯 이미지의 사이즈는 전부 제각각이네요. 모델을 학습시킬 때에는 이미지 사이즈를 통일시켜 주는 작업을 해야할 것 같습니다.</p>\n",
        "<p><code>format_example()</code> 함수를 이용해 이미지를 같은 포맷으로 통일 시켜 봅시다.</p>\n",
        "<p>아래 코드는 이미지의 사이즈를 160x160 픽셀로 통일시킬 뿐만 아니라, 각 픽셀값의 scale을 수정해주는 역할도 합니다.</p>\n",
        "<blockquote>\n",
        "<p>‍🌈 간단 상식 - 타입캐스팅(Type Casting)<br/>\n",
        "형변환이라고도 불리는 타입개스팅은 다른 데이터 타입으로 형(타입)을 바꿔주는 것을 의미합니다. 정수형을 실수형으로 바꾸기 위해 <code>float()</code>를 사용하는 것이 타입캐스팅의 한 예입니다.</p>\n",
        "</blockquote></div><div id=\"block-c58bd51a-922b-4275-bd76-633f2acd87ce-jupyter_block\">"
      ]
    },
    {
      "cell_type": "code",
      "execution_count": null,
      "metadata": {
        "colab": {
          "base_uri": "https://localhost:8080/"
        },
        "id": "GQElThffESkv",
        "outputId": "e5eb6690-1435-4d1a-d6f2-af66a95626b1"
      },
      "outputs": [
        {
          "name": "stdout",
          "output_type": "stream",
          "text": [
            "슝~\n"
          ]
        }
      ],
      "source": [
        "IMG_SIZE = 160 # 리사이징할 이미지의 크기\n",
        "\n",
        "def format_example(image, label):\n",
        "    image = tf.cast(image, tf.float32)  # image=float(image)같은 타입캐스팅의  텐서플로우 버전입니다.\n",
        "    image = (image/127.5) - 1 # 픽셀값의 scale 수정\n",
        "    image = tf.image.resize(image, (IMG_SIZE, IMG_SIZE))\n",
        "    return image, label\n",
        "\n",
        "print(\"슝~\")\n"
      ]
    },
    {
      "cell_type": "code",
      "execution_count": null,
      "metadata": {
        "colab": {
          "base_uri": "https://localhost:8080/"
        },
        "id": "mabwNicRESkv",
        "outputId": "8329b2b3-c5ec-4e2e-d3b1-846b8496b515"
      },
      "outputs": [
        {
          "data": {
            "text/plain": [
              "['0', '1', '2', '3', '4', '5', '6', '7', '8', '9']"
            ]
          },
          "execution_count": 10,
          "metadata": {},
          "output_type": "execute_result"
        }
      ],
      "source": [
        "a = [1.2, 2.5, 3.7, 4.6] \n",
        "a = list(map(int, a))# 리스트의 요소를 정수로 변환 하여 리스트로 생성\n",
        "a\n",
        "\n",
        "b = list(map(str, range(10)))# 0~9까지 숫자를 만들고, str을 이용해서 문자열로 변환후 리스트 생성\n",
        "b\n"
      ]
    },
    {
      "cell_type": "markdown",
      "metadata": {
        "id": "7J7G1_ZdESkw"
      },
      "source": [
        "</div><div class=\"MarkdownView_markdownView__loFxX\"><p>map에 int와 리스트를 넣으면 리스트의 모든 요소를 int를 사용해서 변환합니다. 그다음에 list를 사용해서 map의 결과를 다시 리스트로 만들어줍니다.</p>\n",
        "<p>b 는 range로 0부터 9까지 숫자를 만들고, str을 이용해서 모두 문자열로 변환했습니다. 리스트를 출력해보면 각 요소가 ' '(작은따옴표)로 묶인 것을 볼 수 있습니다.</p></div><div id=\"block-263d9857-f255-4d9c-9f75-58fb9f79cf52-jupyter_block\">"
      ]
    },
    {
      "cell_type": "code",
      "execution_count": null,
      "metadata": {
        "id": "OvPG3hkgESkw"
      },
      "outputs": [],
      "source": [
        "train = raw_train.map(format_example)\n",
        "validation = raw_validation.map(format_example)\n",
        "test = raw_test.map(format_example)\n",
        "\n",
        "print(train)\n",
        "print(validation)\n",
        "print(test)"
      ]
    },
    {
      "cell_type": "markdown",
      "metadata": {
        "id": "E-FIpLllESkw"
      },
      "source": [
        "<div class=\"MarkdownView_markdownView__loFxX\"><p><code>IMG_SIZE</code>를 160으로 지정해 줌으로써, 모든 이미지의 크기를 <code>(160, 160, 3)</code>으로 통일시켰습니다.</p></div>"
      ]
    },
    {
      "cell_type": "code",
      "execution_count": null,
      "metadata": {
        "id": "w0zELwyHESkw"
      },
      "outputs": [],
      "source": [
        "plt.figure(figsize=(10, 5))\n"
      ]
    },
    {
      "cell_type": "markdown",
      "metadata": {
        "id": "j4pTFmKQESkw"
      },
      "source": [
        "</div><div class=\"MarkdownView_markdownView__loFxX\"><p>다시 이미지를 시각적으로 확인해 다시 확인해 보니 모든 이미지의 크기가 균일해진 것을 확인할 수 있습니다.</p></div></div></div>"
      ]
    },
    {
      "cell_type": "markdown",
      "metadata": {
        "id": "FMzudQ32ESkx"
      },
      "source": [
        "<div class=\"StepPage_center__76TTk\"><div class=\"ParserV2_parserV2__DYPIG\"><div class=\"sc-jKJlTe eWxZch contents__title\"><h1 class=\"hchang-content__head\"> 5. 내가 직접 만드는 강아지 고양이 분류기 (4) 데이터가 준비되었으니, 이제 모델을 만들어보자</h1></div><div><div class=\"MarkdownView_markdownView__loFxX\"><h3>텐서플로우를 활용해 모델 구조 설계하기</h3>\n",
        "<hr/>\n",
        "<p>이미지 준비가 끝났으니 이 이미지들로 학습시킬 모델을 만들어봅시다!</p>\n",
        "<p>먼저 모델 생성에 필요한 다음 함수들을 가져오겠습니다. 아래에 있는 함수들은 앞으로 어떤 딥러닝 모델을 만들더라도 거의 항상 만나게 되는 친구들이니, 이름을 잘 익혀두는 것이 좋습니다.</p></div><div id=\"block-4236384f-8b99-445e-a85e-a3b42922d921-jupyter_block\">"
      ]
    },
    {
      "cell_type": "code",
      "execution_count": null,
      "metadata": {
        "colab": {
          "base_uri": "https://localhost:8080/"
        },
        "id": "JYzS7vPeESkx",
        "outputId": "be163792-042c-4b32-a539-a51447bac2b0"
      },
      "outputs": [
        {
          "name": "stdout",
          "output_type": "stream",
          "text": [
            "슝~\n"
          ]
        }
      ],
      "source": [
        "from tensorflow.keras.models import Sequential\n",
        "from tensorflow.keras.layers import Dense, Conv2D, Flatten, MaxPooling2D\n",
        "\n",
        "print(\"슝~\")\n"
      ]
    },
    {
      "cell_type": "markdown",
      "metadata": {
        "id": "AQlW6N4rESkx"
      },
      "source": [
        "</div><div class=\"MarkdownView_markdownView__loFxX\"><p>위의 두 줄은 각각 <code>models</code>와 <code>layers</code>에서 가져왔다는 차이가 있군요.</p>\n",
        "<p><code>models</code>는 모델 그 자체를 구축하기 위한 함수들을 포함하고 있고, <code>layers</code>에는 모델의 구성 요소인 여러 가지 종류의 레이어(layer), 즉 \"층\"이라는 함수들을 가지고 있죠. <code>Sequential</code>은 말 그대로 \"연속적인\" 모델을 쌓기 위한 함수입니다. <code>Sequential</code> 함수 안에 연속적으로 여러 가지 레이어들이 들어가죠.</p>\n",
        "<p>위에서 가져온 함수들로 바로 모델을 만들어보며 더 구체적으로 살펴보겠습니다.</p></div><div id=\"block-13fb6ed9-824f-46bc-b17e-31a608096472-jupyter_block\">"
      ]
    },
    {
      "cell_type": "code",
      "execution_count": null,
      "metadata": {
        "id": "es5wMcLlESkx"
      },
      "outputs": [],
      "source": [
        "model = Sequential([\n",
        "    Conv2D(filters=16, kernel_size=3, padding='same', activation='relu', input_shape=(160, 160, 3)),\n",
        "    MaxPooling2D(),\n",
        "    Conv2D(filters=32, kernel_size=3, padding='same', activation='relu'),\n",
        "    MaxPooling2D(),\n",
        "    Conv2D(filters=64, kernel_size=3, padding='same', activation='relu'),\n",
        "    MaxPooling2D(),\n",
        "    Flatten(),\n",
        "    Dense(units=512, activation='relu'),\n",
        "    Dense(units=2, activation='softmax')\n",
        "])\n",
        "\n",
        "print(\"슝~\")\n"
      ]
    },
    {
      "cell_type": "markdown",
      "metadata": {
        "id": "I6BCXMWPESkx"
      },
      "source": [
        "</div><div class=\"MarkdownView_markdownView__loFxX\"><p>정확히는 몰라도 어디선가 본 것 같은 느낌이죠?!</p>\n",
        "<p>앞으로 딥러닝에서의 <strong>레이어</strong> 라는 개념을 더 자세하게 고민해 보고 공부하겠지만, 딥러닝 모델은 언제나 위와 같이 여러 개의 층을 쌓은 형태로 구성됩니다. <code>Conv2D</code>, <code>MaxPooling2D</code>, <code>Flatten</code>, <code>Dense</code>라는 네 가지 종류의 레이어를 사용했네요.</p>\n",
        "<p>모델의 전체 구조를 <code>summary</code>로 확인해봅시다.</p></div><div id=\"block-796d14d8-29c6-47af-888a-fdea4b993f5f-jupyter_block\">"
      ]
    },
    {
      "cell_type": "code",
      "execution_count": null,
      "metadata": {
        "id": "VjruQGBbESky"
      },
      "outputs": [],
      "source": [
        "model.summary()\n"
      ]
    },
    {
      "cell_type": "markdown",
      "metadata": {
        "id": "zEpdjyVpESky"
      },
      "source": [
        "</div><div class=\"MarkdownView_markdownView__loFxX\"><p><code>summary()</code> 메소드는 모델의 전체 구조를 한눈에 보여줍니다.</p>\n",
        "<p>앞서 말했듯이, 딥러닝 모델은 레이어가 층층이 쌓인 구조입니다. 저희가 모델에 입력하는 이미지의 크기가 몇이었죠?</p>\n",
        "<p>네, <code>(160, 160, 3)</code>임을 이전에 확인했습니다.</p>\n",
        "<p><code>summary()</code>에서 출력된 표는 <code>(160, 160, 3)</code> 크기의 이미지가 모델에 입력된 후 각 레이어를 지나면서 그 이미지의 사이즈가 어떻게 변화하는지를 나타내주고 있습니다. 처음 6개의 레이어를 지나고 난 후의 shape는 모두 <strong>(None, height, width, channel)</strong> 로 4차원입니다.</p></div><div class=\"quiz-block\" id=\"block-9bbe3511-305c-4e6e-a7c0-a39b4bcf68b0-form_block\"><div class=\"sc-chPdSV gVxYUA\"></div></div><div class=\"MarkdownView_markdownView__loFxX\"><p>첫 번째 차원은 데이터의 개수를 나타냅니다. 여기서는 정해지지 않은 수라는 <code>None</code> 기호로 표시되었네요. <code>None</code>은 배치(batch) 사이즈에 따라 모델에 다른 수의 입력이 들어올 수 있음을 나타냅니다.</p>\n",
        "<p>데이터 하나의 크기는 <code>(height, width, channel)</code>로 3차원이죠. 6개의 레이어를 지나면서 height와 width는 점점 작아지고, channel은 점점 커지다가, flatten 계층을 만나 25,600(20x20x64)이라는 하나의 숫자로, 즉 1차원으로 shape가 줄어듭니다.</p>\n",
        "<p>앞의 모델과 같이 점점 작은 feature map이 출력되다가, Flatten과 Dense 레이어를 거쳐 데이터가 1차원으로 줄어드는 네트워크는 CNN(Convolutional Neural Net)을 사용한 딥러닝 모델의 가장 대표적인 형태입니다.</p>\n",
        "<p>이 전체 과정을 그림으로 확인해 보죠. 참고로 아래의 그림은 <a href=\"http://yann.lecun.com/exdb/publis/pdf/lecun-01a.pdf\" target=\"_blank\">Gradient-Based Learning Applied to Document Recognition</a>라는 논문에 실린 그림입니다.</p>\n",
        "<p></p></div><div class=\"MarkdownView_markdownView__loFxX\"><p>맨 왼쪽처럼 이미지 한 장이 입력되면 그 이미지는 Convolutional(합성곱) 연산을 통해 그 형태가 점점 길쭉해지다가, Flatten 레이어를 만나면 오른쪽처럼 한 줄로 펴집니다. <strong>3차원의 이미지를 1차원</strong> 으로 펼치는 거죠.</p>\n",
        "<p>Flatten을 조금 더 직관적으로 이해하기 위해 배열을 다루기 용이한 <code>numpy</code>를 활용해 보겠습니다.</p></div><div id=\"block-b8867824-e59b-4c46-b6f6-5b8dd2b294fb-jupyter_block\">"
      ]
    },
    {
      "cell_type": "markdown",
      "metadata": {
        "id": "j6qSQqfzHSDh"
      },
      "source": [
        "![image.png](data:image/png;base64,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)"
      ]
    },
    {
      "cell_type": "code",
      "execution_count": null,
      "metadata": {
        "id": "HH40hOp8ESky"
      },
      "outputs": [],
      "source": [
        "import numpy as np\n",
        "image = np.array([[1, 2], [3, 4]])\n",
        "print(image.shape)\n",
        "image"
      ]
    },
    {
      "cell_type": "markdown",
      "metadata": {
        "id": "zoDVgUlrESky"
      },
      "source": [
        "</div><div class=\"MarkdownView_markdownView__loFxX\"><p>위와 같이 (2, 2) 크기의 이미지가 있을 때, 이를 <code>flatten</code>시키면 어떻게 될까요?</p></div><div id=\"block-fa23d3cd-9018-4453-997c-fc71895cd46d-jupyter_block\">"
      ]
    },
    {
      "cell_type": "code",
      "execution_count": null,
      "metadata": {
        "colab": {
          "base_uri": "https://localhost:8080/"
        },
        "id": "S-gygPppESkz",
        "outputId": "4fbf5be4-2176-4c46-9be7-75bbad6663a5"
      },
      "outputs": [
        {
          "data": {
            "text/plain": [
              "array([1, 2, 3, 4])"
            ]
          },
          "execution_count": 17,
          "metadata": {},
          "output_type": "execute_result"
        }
      ],
      "source": [
        "image.flatten()\n"
      ]
    },
    {
      "cell_type": "markdown",
      "metadata": {
        "id": "njV0A1g5ESkz"
      },
      "source": [
        "</div><div class=\"MarkdownView_markdownView__loFxX\"><p>모든 숫자를 일렬로 편 상태로 나타나게 됩니다. 모델에서 flatten 레이어를 통과한다는 것도 위와 같이 <strong>모든 숫자를 일렬로 펼쳐놓는 것</strong> 과 같습니다.</p>\n",
        "<p>그 후 Dense 레이어에서 512개의 노드로 축소시켜 최종 출력은 단 두 개의 숫자로 구성된 하나의 <strong>확률분포</strong> 를 내뱉게 되죠. 이 두 숫자는 각각 입력된 이미지가 강아지일 확률과 고양이인 확률을 의미하게 될 것입니다.</p>\n",
        "<p>정리해 보자면, 딥러닝 모델은 (160, 160, 3) 크기의 3차원 이미지를 입력받아 여러 레이어를 거치며 형태를 바꾸다가 최종적으로는 몇 개의 숫자를 출력해내는 함수라고 할 수 있습니다.</p>\n",
        "<p>모델이 여기에서 어떻게 학습을 하며 어떻게 강아지와 고양이를 구별해낼 수 있는지는, 앞으로 점차 이론 내용들을 공부하며 알아볼 것입니다.</p></div></div></div>"
      ]
    },
    {
      "cell_type": "markdown",
      "metadata": {
        "id": "hXvBCY36ESkz"
      },
      "source": [
        "<div class=\"StepPage_center__76TTk\"><div class=\"ParserV2_parserV2__DYPIG\"><div class=\"sc-jKJlTe eWxZch contents__title\"><h1 class=\"hchang-content__head\"> 6. 내가 직접 만드는 강아지 고양이 분류기 (5) 모델아 모델아, 데이터를 먹고 똑똑해지렴!</h1></div><div><div class=\"MarkdownView_markdownView__loFxX\"><h3>모델 compile 완료 후 학습시키기</h3>\n",
        "<hr/>\n",
        "<p>그럼 이제 모델을 학습시켜보겠습니다!</p>\n",
        "<p>모델이 학습하는 데에 필요한 \"학습률\"(<code>learning_rate</code>)이라는 파라미터를 <code>0.0001</code>로 설정해주고, 모델을 <code>compile</code> 하여 학습할 수 있는 형태로 변환해주도록 하겠습니다.</p></div><div id=\"block-775aa3cc-0926-4bc6-98e4-cc0edaded5a7-jupyter_block\">"
      ]
    },
    {
      "cell_type": "code",
      "execution_count": null,
      "metadata": {
        "colab": {
          "base_uri": "https://localhost:8080/"
        },
        "id": "J2HjqplAESkz",
        "outputId": "696ef85e-7a36-462f-a36c-8552945fb62c"
      },
      "outputs": [
        {
          "name": "stdout",
          "output_type": "stream",
          "text": [
            "슝~\n"
          ]
        }
      ],
      "source": [
        "learning_rate = 0.0001\n",
        "model.compile(optimizer=tf.keras.optimizers.RMSprop(learning_rate=learning_rate),\n",
        "              loss=tf.keras.losses.sparse_categorical_crossentropy,\n",
        "              metrics=['accuracy'])\n",
        "\n",
        "print(\"슝~\")\n"
      ]
    },
    {
      "cell_type": "markdown",
      "metadata": {
        "id": "s14xXj6HESkz"
      },
      "source": [
        "</div><div class=\"MarkdownView_markdownView__loFxX\"><p><code>compile</code>을 하기 위해서는 세 가지가 필요합니다. 바로 <code>optimizer</code>, <code>loss</code>, <code>metrics</code> 라는 친구들입니다.</p>\n",
        "<ul>\n",
        "<li><code>optimizer</code>는 <strong>학습을 어떤 방식으로 시킬 것인지</strong> 결정합니다. 어떻게 최적화시킬 것인지를 결정하기 때문에 최적화 함수라고 부르기도 합니다.</li>\n",
        "<li><code>loss</code>는 <strong>모델이 학습해나가야 하는 방향</strong> 을 결정합니다. 이 문제에서는 모델의 출력은 입력받은 이미지가 고양이인지 강아지인지에 대한 확률분포로 두었으므로, 입력 이미지가 고양이(label=0)일 경우 모델의 출력이 <code>[1.0, 0.0]</code>에 가깝도록, 강아지(label=1)일 경우 <code>[0.0, 1.0]</code>에 가까워지도록 하는 방향을 제시합니다.</li>\n",
        "<li><code>metrics</code>는 <strong>모델의 성능을 평가하는 척도</strong> 입니다. 분류 문제를 풀 때, 성능을 평가할 수 있는 지표는 정확도(accuracy), 정밀도(precision), 재현율(recall) 등이 있습니다. 여기서는 정확도를 사용했습니다.</li>\n",
        "</ul>\n",
        "<blockquote>\n",
        "<p>🎶 성능 평가 지표에 대한 자세한 내용은 <a href=\"https://sumniya.tistory.com/26\" target=\"_blank\">링크</a>를 참고하세요.</p>\n",
        "</blockquote>\n",
        "<p>이 세 가지를 모두 정해주면서 <code>compile</code>을 마무리하면 모델은 학습될 준비가 마무리된 것입니다.</p>\n",
        "<p>그렇다면 이제는 모델을 학습시킬 데이터를 준비해야겠죠!</p>\n",
        "<p>한 스텝에 학습시킬 데이터의 개수인 <code>BATCH_SIZE</code>와 학습 데이터를 적절히 섞어줄 <code>SHUFFLE_BUFFER_SIZE</code>를 설정해주겠습니다.</p></div><div id=\"block-bb6c4c2a-42e4-4f30-960a-436c127fb6dc-jupyter_block\">"
      ]
    },
    {
      "cell_type": "code",
      "execution_count": null,
      "metadata": {
        "colab": {
          "base_uri": "https://localhost:8080/"
        },
        "id": "NKXCLx9GESk0",
        "outputId": "853c1db5-14c3-4a03-a2b2-37667344dd59"
      },
      "outputs": [
        {
          "name": "stdout",
          "output_type": "stream",
          "text": [
            "슝~\n"
          ]
        }
      ],
      "source": [
        "BATCH_SIZE = 32\n",
        "SHUFFLE_BUFFER_SIZE = 1000\n",
        "print(\"슝~\")\n"
      ]
    },
    {
      "cell_type": "markdown",
      "metadata": {
        "id": "KgfbyqDNESk0"
      },
      "source": [
        "</div><div class=\"MarkdownView_markdownView__loFxX\"><p><code>BATCH_SIZE</code>에 따라 32개의 데이터를 랜덤으로 뿌려줄 <code>train_batches</code>, <code>validation_batches</code>, <code>test_batches</code>를 만들어 주겠습니다. <code>train_batches</code>는 모델이 끊임없이 학습될 수 있도록 전체 데이터에서 32개를 랜덤으로 뽑아 계속 제공해 줄 것입니다.</p></div><div id=\"block-56eb2c92-749c-4e1b-a7de-234dd7c714a6-jupyter_block\">"
      ]
    },
    {
      "cell_type": "code",
      "execution_count": null,
      "metadata": {
        "colab": {
          "base_uri": "https://localhost:8080/"
        },
        "id": "ZaPe3OJEESk0",
        "outputId": "7413e2ae-3277-4c2e-8445-3ec389c44d46"
      },
      "outputs": [
        {
          "name": "stdout",
          "output_type": "stream",
          "text": [
            "슝~\n"
          ]
        }
      ],
      "source": [
        "train_batches = train.shuffle(SHUFFLE_BUFFER_SIZE).batch(BATCH_SIZE)\n",
        "validation_batches = validation.batch(BATCH_SIZE)\n",
        "test_batches = test.batch(BATCH_SIZE)\n",
        "print(\"슝~\")\n"
      ]
    },
    {
      "cell_type": "markdown",
      "metadata": {
        "id": "W2E6SaImESk0"
      },
      "source": [
        "</div><div class=\"MarkdownView_markdownView__loFxX\"><p><code>train_batches</code>에서 하나의 batch만 꺼내 데이터를 확인해볼까요?</p></div><div id=\"block-82206c72-2a27-46b8-8be4-68a734b7c2ed-jupyter_block\">"
      ]
    },
    {
      "cell_type": "code",
      "execution_count": null,
      "metadata": {
        "id": "C6JCB8DXESk0"
      },
      "outputs": [],
      "source": [
        "for image_batch, label_batch in train_batches.take(1):\n",
        "    break\n",
        "\n",
        "image_batch.shape, label_batch.shape\n"
      ]
    },
    {
      "cell_type": "markdown",
      "metadata": {
        "id": "WYY7XpmMESk0"
      },
      "source": [
        "</div><div class=\"MarkdownView_markdownView__loFxX\"><p><code>image_batch</code>의 shape는 <code>[32, 160, 160, 3]</code>을, <code>label_batch</code>의 shape는 <code>[32]</code>를 나타냅니다.</p></div><div class=\"quiz-block\" id=\"block-d154ecdb-dac4-48f0-b255-02c72184344f-form_block\"></div><div class=\"MarkdownView_markdownView__loFxX\"><p>아직 모델은 학습하기 전입니다.</p>\n",
        "<p>본격적으로 모델을 학습시켜보기 전에, 초기 모델의 성능은 어떤지 확인해 보겠습니다. validation(검증)을 하기 위한 데이터셋인 <code>validation_batches</code>를 이용해 20번의 예측을 해 보고, 평균 <code>loss</code>와 평균 <code>accuracy</code>를 확인해 보겠습니다.</p></div><div id=\"block-8208af81-7ee2-4584-ba97-5723d33b41c5-jupyter_block\">"
      ]
    },
    {
      "cell_type": "code",
      "execution_count": null,
      "metadata": {
        "id": "hmWmvJ8PESk1"
      },
      "outputs": [],
      "source": [
        "validation_steps = 20\n",
        "loss0, accuracy0 = model.evaluate(validation_batches, steps=validation_steps)\n",
        "\n",
        "print(\"initial loss: {:.2f}\".format(loss0))\n",
        "print(\"initial accuracy: {:.2f}\".format(accuracy0))\n"
      ]
    },
    {
      "cell_type": "markdown",
      "metadata": {
        "id": "faGlHKTKESk1"
      },
      "source": [
        "</div><div class=\"MarkdownView_markdownView__loFxX\"><p><code>loss</code>는 0.7이, <code>accuracy</code>는 약 50%가 나왔군요.</p>\n",
        "<p>여기서 <code>loss</code>는 말 그대로 \"손실\"이라는 뜻으로, <strong>얼마나 모델이 틀렸는지</strong> 나타냅니다. 따라서 <code>loss</code>는 낮을수록 좋은 것이죠. 또한 <code>accuracy</code>는 <strong>몇 퍼센트의 정확도를 보이느냐</strong> 에 대한 수치입니다. 우리는 강아지와 고양이를 분류하려고 하는데, 두 장 중 하나를 찍어도 50%는 나올 테니 지금 모델은 전혀 의미 없는 예측을 하는 것이라고 할 수 있습니다.</p>\n",
        "<p>그러면 10 epoch를 학습시켜서 정확도가 어떻게 변하는지 확인해 보겠습니다. 아래 코드는 학습 환경에 따라 약 10~20분 내외가 걸릴 수 있습니다. <code>(colab P100 GPU 기준 약 7분 내외)</code></p></div><div id=\"block-4da15c2f-594a-4416-b9de-b5b2808a58a6-jupyter_block\">"
      ]
    },
    {
      "cell_type": "code",
      "execution_count": null,
      "metadata": {
        "id": "-GTBZm_9ESk1"
      },
      "outputs": [],
      "source": [
        "EPOCHS = 10\n",
        "history = model.fit(train_batches,\n",
        "                    epochs=EPOCHS,\n",
        "                    validation_data=validation_batches)"
      ]
    },
    {
      "cell_type": "markdown",
      "metadata": {
        "id": "TsLcbj75ESk1"
      },
      "source": [
        "</div></div></div>"
      ]
    },
    {
      "cell_type": "markdown",
      "metadata": {
        "id": "vu2Lj1zIESk1"
      },
      "source": [
        "<div class=\"StepPage_center__76TTk\"><div class=\"ParserV2_parserV2__DYPIG\"><div class=\"sc-jKJlTe eWxZch contents__title\"><h1 class=\"hchang-content__head\"> 7. 내가 직접 만드는 강아지 고양이 분류기 (6) 모델은 얼마나 똑똑해졌을까? 확인해 보자!</h1></div><div><div class=\"MarkdownView_markdownView__loFxX\"><h3>모델 학습곡선 확인 및 예측 결과 시각화하기</h3>\n",
        "<hr/>\n",
        "<p>모두 학습이 되었나요? 총 10 epoch를 학습한 후, 정확도가 어느 정도까지 올랐나요?</p></div><div class=\"hchang-content__image\" id=\"block-93f29903-9dcb-4539-978e-43e58a5dd299-image_block\"><img alt=\"content img\" src=\"https://d3s0tskafalll9.cloudfront.net/media/original_images/seukeurinsyas_2021-09-30_19-04-46.png\"/></div><div class=\"MarkdownView_markdownView__loFxX\"><p>위 그림은 모델 학습한 결과인데요, accuracy라는 것이 2개 있습니다.</p>\n",
        "<ul>\n",
        "<li>첫 번째 <code>accuracy</code>는 훈련 데이터셋에 대한 정확도입니다. 학습하고 있는 데이터에 대한 정확도이죠.</li>\n",
        "<li>두 번째 <code>val_accuracy</code>는 검증 데이터셋에 대한 정확도입니다. 학습하지 않고 있는, 즉 해당 학습 단계에서 보지 않은 데이터에 대한 정확도이죠.</li>\n",
        "</ul>\n",
        "<p>훈련 데이터셋에 대한 정확도가 높은 것은 당연합니다. 지금 공부하고 있는 문제집에 대한 점수는 당연히 한 번도 보지 않은 시험지를 푸는 것보다 높게 나오겠죠.</p>\n",
        "<p>10 epoch를 모두 학습한 후에는 훈련 데이터셋에 대한 정확도는 약 90% 남짓, 검증 데이터셋에 대한 accuracy는 약 80% 조금 못 미치게 나왔을 것입니다. 학습 단계에 따른 정확도 변화를 그래프로 확인해 보겠습니다.</p></div><div id=\"block-c8d3aac0-b994-4456-ba4d-c02e740f4054-jupyter_block\">"
      ]
    },
    {
      "cell_type": "code",
      "execution_count": null,
      "metadata": {
        "id": "UxQKi8S4ESk1"
      },
      "outputs": [],
      "source": [
        "acc = history.history['accuracy']\n",
        "val_acc = history.history['val_accuracy']\n",
        "\n",
        "loss=history.history['loss']\n",
        "val_loss=history.history['val_loss']\n",
        "\n",
        "epochs_range = range(EPOCHS)\n",
        "\n",
        "plt.figure(figsize=(12, 8))\n",
        "plt.subplot(1, 2, 1)\n",
        "plt.plot(epochs_range, acc, label='Training Accuracy')\n",
        "plt.plot(epochs_range, val_acc, label='Validation Accuracy')\n",
        "plt.legend()\n",
        "plt.title('Training and Validation Accuracy')\n",
        "\n",
        "plt.subplot(1, 2, 2)\n",
        "plt.plot(epochs_range, loss, label='Training Loss')\n",
        "plt.plot(epochs_range, val_loss, label='Validation Loss')\n",
        "plt.legend()\n",
        "plt.title('Training and Validation Loss')\n",
        "plt.show()\n"
      ]
    },
    {
      "cell_type": "markdown",
      "metadata": {
        "id": "I-7nQ_ApESk2"
      },
      "source": [
        "</div><div class=\"MarkdownView_markdownView__loFxX\"><p>정확도(accuracy)와 손실값(loss)에 대한 두 가지 그래프를 그려보았습니다. 두 그래프 모두 훈련 데이터셋에 대한 수치와 검증 데이터셋에 대한 수치를 나타냅니다.</p></div><div class=\"quiz-block\" id=\"block-00c00b38-a649-427a-8cec-f5bc72aed063-form_block\"></div><div class=\"MarkdownView_markdownView__loFxX\"><p>training accuracy는 꾸준히 오르지만 validation accuracy는 어떤 한계선을 넘지 못하는 것으로 보입니다. 심지어 loss 그래프에서 training loss는 계속 안정적으로 줄어들지만, validation loss값은 특정 순간 이후로 다시 커지는 모습을 보입니다.</p>\n",
        "<p>이러한 문제를 칭하는 용어는 <strong>과적합(Overfitting, 오버피팅)</strong> 입니다. 모델의 성능이 제대로 올라가려면 \"학습하지 않은\" 데이터에 대해서도 성능이 좋아야 하는데, 훈련 데이터만으로 계속 학습하다 보니 그 데이터에만 과도하게 적합(fitting) 되어서 일반화 능력이 떨어지게 되는 것이죠.</p>\n",
        "<p>딥러닝 모델을 학습시킬 때는 과적합 문제를 예민하게 다루고, 과적합이 되지 않는 순간을 잘 잡아내 일반화가 잘 되는 모델로 학습시키는 것이 중요합니다.</p>\n",
        "<p>그러면 마지막으로 검증 정확도(validation accuracy)가 80% 정도까지 올라간 우리 모델의 예측 결과를 확인해 보며 이번 step을 마무리하겠습니다.</p>\n",
        "<p>모델의 예측 결과를 확인하고 싶을 때는 다음과 같이 <code>model.predict</code>를 활용합니다.</p></div><div id=\"block-92acf463-5c55-4f8b-983c-956b6088f635-jupyter_block\">"
      ]
    },
    {
      "cell_type": "code",
      "execution_count": null,
      "metadata": {
        "id": "qmr_QD9OESk2"
      },
      "outputs": [],
      "source": [
        "for image_batch, label_batch in test_batches.take(\n",
        "1):\n",
        "    images = image_batch\n",
        "    labels = label_batch\n",
        "    predictions = model.predict(image_batch)\n",
        "    break\n",
        "\n",
        "predictions\n"
      ]
    },
    {
      "cell_type": "markdown",
      "metadata": {
        "id": "5-vAtXtkESk2"
      },
      "source": [
        "</div><div class=\"MarkdownView_markdownView__loFxX\"><p><code>predictions</code>가 엄청난 소수점 값들로 이루어져 있군요. 이 값은 모델이 판단한 <code>[고양이일 확률, 강아지의 확률]</code>인데, <code>[1.0, 0.0]</code>에 가까울수록 label이 0인 고양이로, <code>[0.0, 1.0]</code>에 가까울수록 label이 1인 강아지로 예측했다고 볼 수 있습니다.</p>\n",
        "<p>즉 고양이일 확률이 더 높으면 고양이로, 그렇지 않으면 강아지로 예측했다고 할 수 있겠군요.</p>\n",
        "<p>prediction 값들을 실제 추론한 라벨(고양이:0, 강아지:1)로 변환해 보겠습니다.\n",
        "실제로 모델이 각 이미지를 강아지라고 판단했는지, 고양이로 판단했는지 보기 위해서요!</p></div><div id=\"block-a016cab0-8969-46b6-95ff-ce48c8cb7aa4-jupyter_block\">"
      ]
    },
    {
      "cell_type": "code",
      "execution_count": null,
      "metadata": {
        "colab": {
          "base_uri": "https://localhost:8080/"
        },
        "id": "EdPzQ5BEESk2",
        "outputId": "6d07d861-650c-413f-b70d-8639ac59999a"
      },
      "outputs": [
        {
          "data": {
            "text/plain": [
              "array([0, 0, 1, 0, 0, 1, 1, 0, 1, 1, 1, 0, 0, 1, 0, 0, 1, 1, 0, 0, 0, 0,\n",
              "       0, 0, 0, 1, 0, 1, 0, 0, 0, 0])"
            ]
          },
          "execution_count": 26,
          "metadata": {},
          "output_type": "execute_result"
        }
      ],
      "source": [
        "predictions = np.argmax(predictions, axis=1)\n",
        "predictions\n"
      ]
    },
    {
      "cell_type": "markdown",
      "metadata": {
        "id": "SZqC-hOMESk2"
      },
      "source": [
        "</div><div class=\"MarkdownView_markdownView__loFxX\"><p>이제 32장의 image들과 32개의 label, 그리고 32개의 prediction을 얻었으니 각각을 시각화해서 확인하겠습니다.</p></div><div id=\"block-6fc55e44-a378-4319-bac0-ac6d80597f50-jupyter_block\">"
      ]
    },
    {
      "cell_type": "code",
      "execution_count": null,
      "metadata": {
        "colab": {
          "background_save": true
        },
        "id": "ilUFX2vqESk3"
      },
      "outputs": [],
      "source": [
        "plt.figure(figsize=(20, 12))\n",
        "\n",
        "for idx, (image, label, prediction) in enumerate(zip(images, labels, predictions)):\n",
        "    plt.subplot(4, 8, idx+1)\n",
        "    image = (image + 1) / 2\n",
        "    plt.imshow(image)\n",
        "    correct = label == prediction\n",
        "    title = f'real: {label} / pred :{prediction}\\n {correct}!'\n",
        "    if not correct:\n",
        "        plt.title(title, fontdict={'color': 'red'})\n",
        "    else:\n",
        "        plt.title(title, fontdict={'color': 'blue'})\n",
        "    plt.axis('off')\n"
      ]
    },
    {
      "cell_type": "markdown",
      "metadata": {
        "id": "roug7gAwESk3"
      },
      "source": [
        "</div><div class=\"MarkdownView_markdownView__loFxX\"><p>어떤가요?</p>\n",
        "<p>대부분 맞았지만, 틀린 것도 종종 보입니다. 틀린 이미지들을 한 번 더 유심히 보세요. 모두 이해해주지는 못하더라도, 어딘가 다른 명확한 이미지들보다는 조금 어려웠을 수 있다는 생각이 들지 않나요?</p>\n",
        "<p>위의 32개 이미지에 대해서는 예측(prediction)의 정확도(accuracy)가 몇일까요? 한번 위의 코드에서 필요한 부분만 빼내어, 직접 맞은 예측의 개수를 세는 코드를 만들어서 계산해 보세요!</p></div><div id=\"block-25965eae-a200-465a-94d8-b42c17ca09b8-jupyter_block\">"
      ]
    },
    {
      "cell_type": "code",
      "execution_count": null,
      "metadata": {
        "id": "6npgxudcESk3"
      },
      "outputs": [],
      "source": [
        "count = 0   # 정답을 맞춘 개수\n"
      ]
    },
    {
      "cell_type": "markdown",
      "metadata": {
        "id": "DSXxJ9oTESk3"
      },
      "source": [
        "</div><div class=\"block-detail_block\" id=\"block-8b1c2ddf-9d21-4d77-831d-d4c0870f7fa1-detail_block\"><details>\n",
        "<summary><strong>예시 답안</strong></summary>\n",
        "<pre><code class=\"hljs stata\">\n",
        "<span class=\"hljs-keyword\">count</span> = 0   # 정답을 맞춘 개수\n",
        "<span class=\"hljs-keyword\">for</span> image, <span class=\"hljs-keyword\">label</span>, prediction <span class=\"hljs-keyword\">in</span> <span class=\"hljs-keyword\">zip</span>(images, labels, predictions):\n",
        "    correct = <span class=\"hljs-keyword\">label</span> == prediction\n",
        "    <span class=\"hljs-keyword\">if</span> correct:\n",
        "        <span class=\"hljs-keyword\">count</span> = <span class=\"hljs-keyword\">count</span> + 1\n",
        "\n",
        "<span class=\"hljs-keyword\">print</span>(<span class=\"hljs-keyword\">count</span> / 32 * 100)   \n",
        "</code></pre>\n",
        "</details></div><div class=\"MarkdownView_markdownView__loFxX\"><p>여기까지! 직접 모델을 설계해서 만들어보고, 학습시켜 보는 것까지 진행해 보았습니다.</p>\n",
        "<p>그럼 이 다음에는?</p>\n",
        "<p>네! 우리가 만든 모델 말고, 우리보다 똑똑하고 돈 많은 누군가가 이미 만들어 놓은 모델을 활용해 볼 것입니다! 우리는 약 80% 정도의 검증 정확도까지 달성했죠! 그럼 엄청나게 크고, 학습 시간도 오래 걸리는 모델을 이미 학습 시켜 놓은 것을 가져다 쓰면 어떨까요?</p>\n",
        "<p>다음 단계로 얼른 넘어가 보시죠!</p></div></div></div>"
      ]
    },
    {
      "cell_type": "markdown",
      "metadata": {
        "id": "GGq06eTeESk3"
      },
      "source": [
        "<div class=\"StepPage_center__76TTk\"><div class=\"ParserV2_parserV2__DYPIG\"><div class=\"sc-jKJlTe eWxZch contents__title\"><h1 class=\"hchang-content__head\"> 8. 내가 직접 만들지 않고 가져다 쓰는 강아지 고양이 분류기 (1) 어려운 문제는 직접 풀지 말자, 똑똑한 누군가가 이미 풀어놨을 테니!</h1></div><div><div class=\"MarkdownView_markdownView__loFxX\"><h3>이미지 분류 대회인 ILSVRC와 데이터셋 ImageNet</h3>\n",
        "<hr/>\n",
        "<p>지금까지 직접 분류 모델을 설계하고 구조를 짠 후, 학습시켜서 강아지와 고양이를 분류해 보았습니다.<br/>\n",
        "하지만 사실 그것은 처음 접하는 과정이기 때문에 직접 실습을 해본 것일 뿐, 현실에서 이미지를 분류할 때는 절대 그렇게 모델을 직접 만들어서 사용하지 않습니다. (😧 네..? 그럼 우린 뭘 한 거죠?)</p>\n",
        "<p>딥러닝 세계에서 이미지 분류는 굉장히 전통이 깊은 주제입니다. 이미 매우 많은 사람들이 시도해왔고, 정확도를 올리기 위해서도 굉장히 오랜 시간 동안 노력해왔죠.</p>\n",
        "<p>심지어는 이미지 분류를 전문적으로 시도해 온 컴퓨터 비전 분야의 \"올림픽\"과 같은 대회도 있습니다.<br/>\n",
        "바로 <strong>ILSVRC</strong>(ImageNet Large Scale Visual Recognition Challenge) 이죠. 다음 세 개의 글을 읽고 ILSVRC가 뭔지 알아봅시다.</p>\n",
        "<ul>\n",
        "<li><a href=\"https://bskyvision.com/425\" target=\"_blank\">ILSVRC 대회 (이미지넷 이미지 인식 대회) 역대 우승 알고리즘들</a></li>\n",
        "<li><a href=\"https://www.sallys.space/blog/2018/01/26/cnn-imagenet/\" target=\"_blank\">CNN-Imagenet에 쓰인 주요 모델</a></li>\n",
        "<li><a href=\"https://89douner.tistory.com/59\" target=\"_blank\">CNN 성능은 어떻게 평가하게 되나요?</a></li>\n",
        "</ul></div><div class=\"quiz-block\" id=\"block-ae9cb26b-a18a-4871-8298-c839a1c0595c-form_block\"></div><div class=\"MarkdownView_markdownView__loFxX\"><p>이미지 분류는 ILSVRC 대회를 통해 굉장히 빠르게 발전해왔습니다. 2017년 대회를 마지막으로 대회는 종료가 되었으며, 마지막 해의 우승 모델인 SeNet은 2.3%의 아주 낮은 오차율을 보였죠. 총 1,000개의 카테고리가 있는 수백만의 데이터를 분류하는 데 2.3%밖에 틀리지 않았다니, 정말 놀랍지 않나요?</p>\n",
        "<p>그래서 우리는 이 대회에서 사용되었던 모델을 활용해 볼 것입니다.</p>\n",
        "<p>하지만 잠깐, 의문점이 생기지 않나요?</p>\n",
        "<p>대회에서 사용된 모델은 분명 1,000개의 카테고리를 맞추어야 하는 모델이었고, 학습한 데이터도 우리가 사용하는 데이터와 다른데, 어떻게 그 모델을 우리의 강아지 고양이 분류기에 활용할 수 있는 걸까요?</p>\n",
        "<p>이러한 의문을 풀기 위해 한 가지 알고 가야 할 개념이 있습니다.<br/>\n",
        "바로 <code>거인의 어깨에 서서</code> 문제를 푼다는, <strong>Transfer Learning(전이학습)</strong> 이죠.</p>\n",
        "<h3>Transfer Learning</h3>\n",
        "<hr/>\n",
        "<p>다음 글을 읽어보며 Transfer Learning의 개념을 파악하고, 다음 질문들에 답해봅시다.</p>\n",
        "<ul>\n",
        "<li><a href=\"https://jeinalog.tistory.com/13\" target=\"_blank\">Transfer Learning｜학습된 모델을 새로운 프로젝트에 적용하기</a></li>\n",
        "</ul></div></div><div class=\"MarkdownView_markdownView__loFxX\"><p>Transfer Learning이 무엇인지 조금은 와닿으시나요?</p>\n",
        "<p>간단히 말하자면, Transfer Learning은 누군가 이미 잘 만들어놓은 모델을 가져와서, 내 입맛에 맞게 일부분만 새로 학습시켜 사용하는 것입니다. Transfer Learning에는 여러 가지 전략이 있지만 우리는 그 중 \"classifier\" 부분만 새로 학습시키는, 즉 적은 부분만 새로 학습시키는 전략을 활용할 것입니다.</p>\n",
        "<p>바로 다음 그림 중 세 번째 그림처럼 convolutional base는 모두 가만히 두고(freeze), 아래의 classifier 부분만 새로 학습시키는 거죠.</p></div><div class=\"hchang-content__image\" id=\"block-a199d954-df8b-4e18-8559-1bae7a9f547b-image_block\"><img alt=\"content img\" src=\"https://d3s0tskafalll9.cloudfront.net/media/images/e-4-transfer.max-800x600_oqjiLxu.png\"/><figcaption id=\"capt-' + elem.id + '\">[Transfer Learning]</figcaption></div></div></div>"
      ]
    },
    {
      "cell_type": "markdown",
      "metadata": {
        "id": "bdczgtNaESk3"
      },
      "source": [
        "<div class=\"StepPage_center__76TTk\"><div class=\"ParserV2_parserV2__DYPIG\"><div class=\"sc-jKJlTe eWxZch contents__title\"><h1 class=\"hchang-content__head\"> 9. 내가 직접 만들지 않고 가져다 쓰는 강아지 고양이 분류기 (2) 아주 똑똑한 모델을 간단히 가져오는 방법</h1></div><div><div class=\"MarkdownView_markdownView__loFxX\"><h3>사전 학습 모델인 VGG16을 가져오고, 모델의 구조 확인하기</h3>\n",
        "<hr/>\n",
        "<p>그렇다면 이제 설명은 그만, 바로 실행해 보죠!</p>\n",
        "<p>우리는 2014년의 ILSVRC 물체 위치 찾기(localization) 태스크에서 우승한 VGG 모델을 사용해 보겠습니다.<br/>\n",
        "2014년 이후 뛰어난 성능을 보이는 다양한 새로운 모델이 개발되었지만, VGG는 단순한 구조임에도 꽤나 괜찮은 성능을 보여서 아직까지 많은 이미지 처리 분야에서 사랑받는 모델 중 하나입니다.</p>\n",
        "<p>다음의 간단한 코드로 VGG 모델을 <code>base_model</code>의 변수로 불러오겠습니다. 이전 스텝에 언급한 대로, VGG 모델을 가져올 때, output에 가까운 높은 레벨에 있는 3개의 FC 레이어는 제외하고 불러와야 하므로 <code>include_top=False</code> 옵션을 주었다는 것을 눈여겨 봐주세요.<br/>\n",
        "텐서플로우 케라스에서 제공하는 VGG16 모델에 대한 상세한 내용은 아래 링크를 참고해 주세요.</p>\n",
        "<p><a href=\"https://www.tensorflow.org/api_docs/python/tf/keras/applications/VGG16\" target=\"_blank\">텐서플로우 튜토리얼 - VGG16</a></p></div><div id=\"block-aea5743c-2020-4a4a-a0f6-273dee0e817b-jupyter_block\">"
      ]
    },
    {
      "cell_type": "code",
      "execution_count": null,
      "metadata": {
        "id": "FLma2bzWESk3"
      },
      "outputs": [],
      "source": [
        "IMG_SHAPE = (IMG_SIZE, IMG_SIZE, 3)\n",
        "\n",
        "# Create the base model from the pre-trained model VGG16\n",
        "base_model = tf.keras.applications.VGG16(input_shape=IMG_SHAPE,\n",
        "                                         include_top=False,\n",
        "                                         weights='imagenet')\n"
      ]
    },
    {
      "cell_type": "markdown",
      "metadata": {
        "id": "a0Vj2vmqESk4"
      },
      "source": [
        "</div><div class=\"MarkdownView_markdownView__loFxX\"><p>간단하죠? 우리는 방금 이미 잘 학습된 모델을 가져왔습니다.<br/>\n",
        "이 모델은 입력된 이미지를 입력받으면 해당 이미지의 특징을 쏙쏙 잘 뽑아낸 특징 벡터를 추출해낼 수 있죠.</p>\n",
        "<p>실제로 모델에 이미지 데이터가 들어가면 어떻게 되는지 확인해 보겠습니다.\n",
        "우리가 학습할 때 사용했던 데이터인 <code>image_batch</code>를 넣어보죠.<br/>\n",
        "넣기 전에 <code>image_batch</code>의 원래 사이즈를 다시 확인해봅시다.</p></div><div id=\"block-a77cf23f-d58d-4d8d-b0b0-51fdcef6126f-jupyter_block\">"
      ]
    },
    {
      "cell_type": "code",
      "execution_count": null,
      "metadata": {
        "id": "3t9EeMswESk4",
        "colab": {
          "base_uri": "https://localhost:8080/"
        },
        "outputId": "2a79208e-ca2e-4a11-924f-a58f173cb919"
      },
      "outputs": [
        {
          "output_type": "execute_result",
          "data": {
            "text/plain": [
              "TensorShape([32, 160, 160, 3])"
            ]
          },
          "metadata": {},
          "execution_count": 65
        }
      ],
      "source": [
        "image_batch.shape"
      ]
    },
    {
      "cell_type": "markdown",
      "metadata": {
        "id": "Ms0houS3ESk4"
      },
      "source": [
        "</div><div class=\"MarkdownView_markdownView__loFxX\"><p>위의 shape는 위에서 많이 확인해봤습니다.<br/>\n",
        "다시 한번 짚어보면, 32는 이미지의 장수, 즉 32장의 이미지가 들어있다는 뜻이고, 각 이미지의 크기는 (160, 160, 3)이었습니다.<br/>\n",
        "160은 각각 height와 width, 그리고 3은 채널 수로 R, G, B 3개였죠.</p>\n",
        "<p>그렇다면 모델에 이 배치를 넣으면 shape가 어떻게 바뀔까요? 확인해봅시다.</p></div><div id=\"block-0509176d-9975-4f53-b7a5-7ce23f69ce3f-jupyter_block\">"
      ]
    },
    {
      "cell_type": "code",
      "execution_count": null,
      "metadata": {
        "id": "0CEO6dUWESk4",
        "colab": {
          "base_uri": "https://localhost:8080/"
        },
        "outputId": "34ac0f65-1bf0-4671-e5a4-12e15235a9bd"
      },
      "outputs": [
        {
          "output_type": "execute_result",
          "data": {
            "text/plain": [
              "TensorShape([32, 5, 5, 512])"
            ]
          },
          "metadata": {},
          "execution_count": 66
        }
      ],
      "source": [
        "feature_batch = base_model(image_batch)\n",
        "feature_batch.shape"
      ]
    },
    {
      "cell_type": "markdown",
      "metadata": {
        "id": "Z5VbbdZfESk4"
      },
      "source": [
        "</div><div class=\"MarkdownView_markdownView__loFxX\"><p>어떤가요? 이미지의 개수는 32장으로 여전히 같은데, 이미지의 사이즈가 많이 달라졌습니다.<br/>\n",
        "height와 width는 각각 5로 매우 작아졌고, 512로 channel이 늘어났군요.</p>\n",
        "<p>이 벡터는 이미지에서 특징을 추출해 낸 \"특징 벡터\"라고 부르기도 합니다.</p>\n",
        "<p>그렇다면 모델 구조는 어떤지 살펴볼까요?</p></div><div id=\"block-10f89186-1253-455f-ae2c-c64c7dbb9048-jupyter_block\">"
      ]
    },
    {
      "cell_type": "code",
      "execution_count": null,
      "metadata": {
        "id": "kbH1ZZUkESk4"
      },
      "outputs": [],
      "source": [
        "base_model.summary()"
      ]
    },
    {
      "cell_type": "markdown",
      "metadata": {
        "id": "XqHHTDguESk4"
      },
      "source": [
        "</div><div class=\"MarkdownView_markdownView__loFxX\"><p>와, 우리가 만들었던 것보다는 분명 복잡해 보이네요.<br/>\n",
        "여러 개의 행이 있다는 것은, 그만큼 레이어의 개수가 많다는 뜻입니다.</p>\n",
        "<p>모델의 구조는 무엇보다도 그림으로 확인하는 것이 가장 직관적이겠죠.<br/>\n",
        "다음 포스팅에서 모델 구조를 구경하고 옵시다.</p>\n",
        "<ul>\n",
        "<li><a href=\"https://neurohive.io/en/popular-networks/vgg16/\" target=\"_blank\">VGG16 – Convolutional Network for Classification and Detection</a></li>\n",
        "</ul></div></div><div class=\"hchang-content__image\" id=\"block-6fd68cf9-ca9a-465a-9230-4ad39a2fc47b-image_block\"><img alt=\"content img\" src=\"https://d3s0tskafalll9.cloudfront.net/media/images/e-4-3-1.max-800x600.png\"/></div><div class=\"MarkdownView_markdownView__loFxX\"><p>네, VGG16 모델은 위와 같은 구조로 되어 있습니다.<br/>\n",
        "이미지가 Input 부분에서 입력되면 여러 개의 레이어를 거친 후 Output으로 출력되죠.</p>\n",
        "<p>다만, 우리는 이 모델을 그대로 쓰지 않고 Transfer Learning 시킬 것이기 때문에 Dense Layer는 쓰지 않습니다. 이 부분은 우리가 새로 만들어주어야 합니다.</p>\n",
        "<p>그러면, 모델의 끝 부분을 커스터마이징 해 보러 가시죠!</p></div></div></div>"
      ]
    },
    {
      "cell_type": "markdown",
      "metadata": {
        "id": "DW36zhZkESk4"
      },
      "source": [
        "<div class=\"StepPage_center__76TTk\"><div class=\"ParserV2_parserV2__DYPIG\"><div class=\"sc-jKJlTe eWxZch contents__title\"><h1 class=\"hchang-content__head\"> 10. 내가 직접 만들지 않고 가져다 쓰는 강아지 고양이 분류기 (3) 모델의 마지막 부분만, 내 입맛대로 재구성하기</h1></div><div><div class=\"MarkdownView_markdownView__loFxX\"><h3>VGG16 끝단에 classifier 레이어를 붙여서 원하는 구조의 분류 모델 만들기</h3>\n",
        "<hr/>\n",
        "<p>VGG16 모델을 가져와서 모델이 이미지로부터 특징을 추출하는 벡터, 즉 특징 벡터를 내뱉는다는 것을 확인했습니다.</p>\n",
        "<p>그럼 이제 모델이 추출한 특징 벡터로부터 분류를 할 수 있는 classifier를 우리가 구성해야 하는데요! 한 가지 이슈가 있습니다. VGG16 모델이 출력한 벡터의 shape가 무엇이었는지 기억하나요?</p></div></div><div class=\"MarkdownView_markdownView__loFxX\"><p>기억이 잘 나지 않는다면 바로 확인해볼까요?</p></div><div id=\"block-b5229e51-4b8a-4012-9442-d8cd9806a79c-jupyter_block\">"
      ]
    },
    {
      "cell_type": "code",
      "execution_count": null,
      "metadata": {
        "id": "gbTlyi22ESk4",
        "colab": {
          "base_uri": "https://localhost:8080/"
        },
        "outputId": "10d65e99-c989-44e9-e366-f96fee6b456f"
      },
      "outputs": [
        {
          "output_type": "execute_result",
          "data": {
            "text/plain": [
              "TensorShape([32, 5, 5, 2048])"
            ]
          },
          "metadata": {},
          "execution_count": 48
        }
      ],
      "source": [
        "feature_batch.shape\n"
      ]
    },
    {
      "cell_type": "markdown",
      "metadata": {
        "id": "8bge9hnHESk5"
      },
      "source": [
        "</div><div class=\"MarkdownView_markdownView__loFxX\"><p>(5, 5, 512) 크기의 벡터가 32개 있는 (32, 5, 5, 512)였습니다.</p>\n",
        "<p>그런데 classifier를 구성하려면 Fully connected 레이어로 구성해야 합니다. Fully connected 레이어는 말 그대로 완전연결 계층인데요, 다음과 같이 생겼습니다.</p></div><div class=\"hchang-content__image\" id=\"block-b03011aa-4a45-488e-83b9-22e95eb1acb8-image_block\"><img alt=\"content img\" src=\"https://d3s0tskafalll9.cloudfront.net/media/images/seukeurinsyas_2021-10-01_15-54-29.max-800x600.png\"/><figcaption id=\"capt-' + elem.id + '\">[Fully Connected Layer]</figcaption><a href=\"https://www.researchgate.net/figure/Types-of-pooling-d-Fully-Connected-Layer-At-the-end-of-a-convolutional-neural-network_fig3_337105858\" rel=\"noopener noreferrer\" target=\"_blank\">https://www.researchgate.net/figure/Types-of-pooling-d-Fully-Connected-Layer-At-the-end-of-a-convolutional-neural-network_fig3_337105858</a></div><div class=\"MarkdownView_markdownView__loFxX\"><p>말 그대로 이전 계층의 모든 숫자들이 다음 계층의 모든 숫자와 연결이 되어야 하죠. 이러한 구조로 인해 Fully connected 레이어에 입력될 수 있는 벡터는 <strong>반드시 1차원이어야 합니다.</strong></p>\n",
        "<p>하지만 VGG16이 출력하는 벡터는 몇 차원이었죠?</p>\n",
        "<p>(5, 5, 512)로 3차원의 구조를 가졌습니다. 따라서 우리는 classifier를 구성하기 전에 이 3차원 벡터를 1차원 벡터로 변환하는 작업을 거쳐야 합니다.</p>\n",
        "<p>잠깐, 우리는 사실 위에서 우리만의 모델을 만들며 이러한 작업을 한 번 했었습니다. 무슨 계층이었을까요?</p></div><div class=\"quiz-block\" id=\"block-e115f43e-0646-4eb6-a6cb-1864bbea96cb-form_block\"></div><div class=\"MarkdownView_markdownView__loFxX\"><p>Flatten 레이어 혹시 기억나시나요?</p>\n",
        "<p>3차원이었던 벡터를 일렬로 쭉 펴는 역할을 하는 계층이 바로 Flatten 레이어였습니다.</p>\n",
        "<p>잘 기억이 나지 않는다면 다음 코드를 다시 한번 돌리며 복습해 보죠.</p></div><div id=\"block-ef228fa9-c4d1-4011-836e-b9f91bb8557b-jupyter_block\">"
      ]
    },
    {
      "cell_type": "code",
      "execution_count": null,
      "metadata": {
        "id": "xUyT3ZyaESk5",
        "colab": {
          "base_uri": "https://localhost:8080/"
        },
        "outputId": "42f01bce-5224-4607-916a-598675603b3c"
      },
      "outputs": [
        {
          "output_type": "stream",
          "name": "stdout",
          "text": [
            "Original image:\n",
            " [[1 2]\n",
            " [3 4]]\n",
            "Original image shape: (2, 2)\n",
            "\n",
            "Flattened image:\n",
            " [1 2 3 4]\n",
            "Flattened image shape: (4,)\n"
          ]
        }
      ],
      "source": [
        "import numpy as np\n",
        "\n",
        "image = np.array([[1, 2],\n",
        "                  [3, 4]])\n",
        "\n",
        "flattened_image = image.flatten()\n",
        "\n",
        "print(\"Original image:\\n\", image)\n",
        "print(\"Original image shape:\", image.shape)\n",
        "print()\n",
        "print(\"Flattened image:\\n\", flattened_image)\n",
        "print(\"Flattened image shape:\", flattened_image.shape)\n"
      ]
    },
    {
      "cell_type": "markdown",
      "metadata": {
        "id": "t2XER_YoESk5"
      },
      "source": [
        "</div><div class=\"MarkdownView_markdownView__loFxX\"><p>2차원의 이미지를 flatten하면 위와 같이 1차원의 이미지로 쭉 펼 수 있었습니다.</p>\n",
        "<p>하지만 이번에는 조금 다른 방법을 사용할 것입니다. 2차원 또는 3차원 벡터를 1차원으로 축소하는 방법에는 Flattening 하는 것보다 조금 더 좋은 방법이 있거든요.</p>\n",
        "<p>그 방법은 바로 <strong>Global Average Pooling</strong> 입니다. 다음 글을 통해 Global Average Pooling이 어떤 작업을 하는 연산인지 알아보죠.</p>\n",
        "<ul>\n",
        "<li><a href=\"https://peltarion.com/knowledge-center/documentation/modeling-view/build-an-ai-model/blocks/2d-global-average-pooling\" target=\"_blank\">Global Average Pooling</a></li>\n",
        "</ul></div></div><div class=\"hchang-content__image\" id=\"block-0282c6a7-d014-4d95-b95d-44185ba57c90-image_block\"><img alt=\"content img\" src=\"https://d3s0tskafalll9.cloudfront.net/media/images/e-4-3-3.max-800x600.png\"/><a href=\"https://peltarion.com/knowledge-center/documentation/modeling-view/build-an-ai-model/blocks/global-average-pooling-2d\" rel=\"noopener noreferrer\" target=\"_blank\">https://peltarion.com/knowledge-center/documentation/modeling-view/build-an-ai-model/blocks/global-average-pooling-2d</a></div><div class=\"MarkdownView_markdownView__loFxX\"><p>Global Average Pooling은 위와 같이 3차원의 벡터가 있을 때, 겹겹이 쌓여있는 2차원 배열의 평균을 구한 후 하나의 값으로 축소하는 기법입니다.</p>\n",
        "<p>위 그림에서는 왼쪽의 3차원 배열에서 맨 앞 장인 <code>[[1, 5, 4, 5], ..., [8, 6, 8, 7]]</code> 에 있는 16개 숫자의 평균을 구하면 '5'라는 숫자가 되죠.</p>\n",
        "<p>이와 같이 <strong>평균값을 활용해 벡터의 차원을 줄이는 방법</strong> 을 Global Average Pooling이라고 합니다.</p></div></div><div class=\"MarkdownView_markdownView__loFxX\"><p>그러면 바로 Global Average Pooling 계층을 만드는 코드를 확인해 보겠습니다.</p></div><div id=\"block-05ce39a7-07be-4310-99d6-76a38058abc0-jupyter_block\">"
      ]
    },
    {
      "cell_type": "code",
      "execution_count": null,
      "metadata": {
        "id": "edxWWlTFESk5"
      },
      "outputs": [],
      "source": [
        "global_average_layer = tf.keras.layers.GlobalAveragePooling2D()"
      ]
    },
    {
      "cell_type": "markdown",
      "metadata": {
        "id": "NPXq3Vm7ESk5"
      },
      "source": [
        "</div><div class=\"MarkdownView_markdownView__loFxX\"><p>이 <code>global_average_layer</code>에 위에서 VGG16이 출력했던 <code>feature_batch</code>를 입력하면 어떻게 될까요?</p></div><div id=\"block-2715503c-ccba-4b27-8c3d-40e748f61384-jupyter_block\">"
      ]
    },
    {
      "cell_type": "code",
      "execution_count": null,
      "metadata": {
        "id": "nTgooWEnESk5",
        "colab": {
          "base_uri": "https://localhost:8080/"
        },
        "outputId": "05f53ea6-825c-4e47-ad4b-72245c415a58"
      },
      "outputs": [
        {
          "output_type": "stream",
          "name": "stdout",
          "text": [
            "(32, 2048)\n"
          ]
        }
      ],
      "source": [
        "feature_batch_average = global_average_layer(feature_batch)\n",
        "print(feature_batch_average.shape)"
      ]
    },
    {
      "cell_type": "markdown",
      "metadata": {
        "id": "Ll0X3OhPESk5"
      },
      "source": [
        "</div><div class=\"MarkdownView_markdownView__loFxX\"><p>네, 예상대로 (32, 512)의 벡터가 나오는군요. 평균이 잘 취해진 것 같습니다.</p>\n",
        "<p>그렇다면 이제 여기에 마지막으로! Dense 레이어들을 붙여주면 우리의 classifier가 완성됩니다.</p></div><div id=\"block-dda966d7-8f45-4cab-a6b9-c3ba180acaa3-jupyter_block\">"
      ]
    },
    {
      "cell_type": "code",
      "execution_count": null,
      "metadata": {
        "id": "1f9Ny_5kESk5",
        "colab": {
          "base_uri": "https://localhost:8080/"
        },
        "outputId": "c8a29e01-31b0-49f7-d140-addf26716a51"
      },
      "outputs": [
        {
          "output_type": "stream",
          "name": "stdout",
          "text": [
            "(32, 2)\n"
          ]
        }
      ],
      "source": [
        "dense_layer = tf.keras.layers.Dense(512, activation='relu')\n",
        "prediction_layer = tf.keras.layers.Dense(2, activation='softmax')\n",
        "\n",
        "# feature_batch_averag가 dense_layer를 거친 결과가 다시 prediction_layer를 거치게 되면\n",
        "prediction_batch = prediction_layer(dense_layer(feature_batch_average))  \n",
        "print(prediction_batch.shape)\n"
      ]
    },
    {
      "cell_type": "markdown",
      "metadata": {
        "id": "vvS3tL6NESk6"
      },
      "source": [
        "</div><div class=\"MarkdownView_markdownView__loFxX\"><blockquote>\n",
        "<p>❔ 혹시 <code>activation='relu'</code>와 <code>activation='softmax'</code>에 대해 궁금증이 생기셨나요?\n",
        "<code>activation</code>은 활성화 함수를 의미하는 것으로, 입력값을 non-linear한 방식으로 출력값을 얻기 위해 사용합니다. 활성화 함수로는 다양한 함수가 사용되지만 위에서는 <code>relu</code>와 <code>softmax</code>가 사용되었죠.</p>\n",
        "<p>활성화 함수에 대한 내용을 다루려면 깊게 들어가야 하므로 여기서는 다루지 않겠습니다. 활성화 함수에 대해 궁금하신 분은 아래의 자료를 참고하세요.</p>\n",
        "<ul>\n",
        "<li><a href=\"https://ganghee-lee.tistory.com/30\" target=\"_blank\">활성화 함수(activation function)을 사용하는 이유</a></li>\n",
        "<li><a href=\"https://ynebula.tistory.com/42\" target=\"_blank\">[Deep Learning-딥러닝]Activation Function-활성화 함수(Sigmoid, Hyperbolic Tangent, Softmax, ReLu)</a></li>\n",
        "</ul>\n",
        "</blockquote>\n",
        "<p>이제 우리만의 모델을 만들 준비는 모두 끝났습니다.</p>\n",
        "<p>우리의 데이터들은 처음에 이미지에서 특징을 추출해 줄 VGG16, <code>base_model</code>에 입력되어 특징이 추출된 다음, 그 특징 벡터는 <code>global_average_layer</code>를 거쳐 마지막에 <code>prediction_layer</code>까지 통과하며 강아지인지, 고양이인지 예측이 될 것입니다.</p>\n",
        "<p>여기에서, VGG16에 해당하는 <code>base_model</code>은 학습을 시키지 않을 예정이니 학습 여부를 결정하는 <code>trainable</code> 변수를 <code>False</code>로 지정해 \"꺼주겠\"습니다.</p></div><div id=\"block-e5a2a0ea-e292-4890-8690-90174c9b11d6-jupyter_block\">"
      ]
    },
    {
      "cell_type": "code",
      "execution_count": null,
      "metadata": {
        "id": "hAypvuLdESk6",
        "colab": {
          "base_uri": "https://localhost:8080/"
        },
        "outputId": "18e12d33-6a41-4555-b85d-db095aa3ad0f"
      },
      "outputs": [
        {
          "output_type": "stream",
          "name": "stdout",
          "text": [
            "슝~\n"
          ]
        }
      ],
      "source": [
        "base_model.trainable = False\n",
        "print(\"슝~\")\n"
      ]
    },
    {
      "cell_type": "markdown",
      "metadata": {
        "id": "w1kJy5alESk6"
      },
      "source": [
        "</div><div class=\"MarkdownView_markdownView__loFxX\"><p>그럼 이제 진짜 최종 모델을 만들어보죠.</p></div><div id=\"block-a6c6d12c-92bd-49c0-80c6-24dbeb8fcfde-jupyter_block\">"
      ]
    },
    {
      "cell_type": "code",
      "execution_count": null,
      "metadata": {
        "id": "y_Ki-g7aESk6"
      },
      "outputs": [],
      "source": [
        "model = tf.keras.Sequential([\n",
        "  base_model,\n",
        "  global_average_layer,\n",
        "  dense_layer,\n",
        "  prediction_layer\n",
        "])"
      ]
    },
    {
      "cell_type": "markdown",
      "metadata": {
        "id": "FBklGSPoESk6"
      },
      "source": [
        "</div><div class=\"MarkdownView_markdownView__loFxX\"><p>예! 완성입니다.</p>\n",
        "<p>모델의 구조를 확인해볼까요?</p></div><div id=\"block-854be662-da4a-408f-98bc-3491a7a3b2ed-jupyter_block\">"
      ]
    },
    {
      "cell_type": "code",
      "execution_count": null,
      "metadata": {
        "id": "zdeYEsISESk6"
      },
      "outputs": [],
      "source": [
        "model.summary()\n"
      ]
    },
    {
      "cell_type": "markdown",
      "metadata": {
        "id": "AYFqDcm4ESk7"
      },
      "source": [
        "</div><div class=\"MarkdownView_markdownView__loFxX\"><p>간결하네요.</p>\n",
        "<p>사실 VGG16 안에는 위에서 봤던 매우 복잡한 레이어들이 들어있는데, 우리가 <code>base_model</code>로 추상화시켰기 때문에 간결하게 나타납니다.</p>\n",
        "<p>모델이 완성되었으니, 이제 학습만 시키면 되겠군요! 다음 노드로 넘어가서 진행해 보도록 합시다!</p></div></div></div>"
      ]
    },
    {
      "cell_type": "markdown",
      "metadata": {
        "id": "QTAckU65ESk7"
      },
      "source": [
        "<div class=\"StepPage_center__76TTk\"><div class=\"ParserV2_parserV2__DYPIG\"><div class=\"sc-jKJlTe eWxZch contents__title\"><h1 class=\"hchang-content__head\"> 11. 내가 직접 만들지 않고 가져다 쓰는 강아지 고양이 분류기 (4) 거인의 어깨에 올라타서 예측하니, 더 잘 예측할 수밖에!</h1></div><div><div class=\"MarkdownView_markdownView__loFxX\"><h3>VGG16을 기반으로 구성된 이미지 분류기를 학습시키고, 직접 만들었던 모델과 결과 비교해 보기</h3>\n",
        "<hr/>\n",
        "<p>자, 이제 모델 학습은 위에서 했던 과정과 같습니다.</p>\n",
        "<p><code>optimizer</code>, <code>loss</code>, <code>metrics</code>를 준비해서 모델을 compile 하기만 하면 되죠.</p></div><div id=\"block-b41df51d-5b66-4632-b4b2-f2b0a5e4a971-jupyter_block\">"
      ]
    },
    {
      "cell_type": "code",
      "execution_count": null,
      "metadata": {
        "id": "rlXgB4iWESk7"
      },
      "outputs": [],
      "source": [
        "base_learning_rate = 0.0001\n",
        "model.compile(optimizer=tf.keras.optimizers.RMSprop(lr=base_learning_rate),\n",
        "              loss=tf.keras.losses.sparse_categorical_crossentropy,\n",
        "              metrics=['accuracy'])\n"
      ]
    },
    {
      "cell_type": "markdown",
      "metadata": {
        "id": "csgV8cvvESk7"
      },
      "source": [
        "</div><div class=\"MarkdownView_markdownView__loFxX\"><p>자, 그러면 위에서 했던 것처럼 초기 손실과 정확도 값을 확인해 봅시다.</p>\n",
        "<p>아직 학습이 되지 않은 상태니, 50% 정도를 예상해볼 수 있겠어요!</p></div><div id=\"block-372f4ec6-2851-479b-b667-9d13077d8832-jupyter_block\">"
      ]
    },
    {
      "cell_type": "code",
      "execution_count": null,
      "metadata": {
        "id": "lyRPXKxMESk7"
      },
      "outputs": [],
      "source": [
        "validation_steps=20\n",
        "loss0, accuracy0 = model.evaluate(validation_batches, steps = validation_steps)\n",
        "\n",
        "print(\"initial loss: {:.2f}\".format(loss0))\n",
        "print(\"initial accuracy: {:.2f}\".format(accuracy0)\n",
        ")\n"
      ]
    },
    {
      "cell_type": "markdown",
      "metadata": {
        "id": "xzt0TSS7ESk7"
      },
      "source": [
        "</div><div class=\"MarkdownView_markdownView__loFxX\"><p>역시 50% 정도로, 무의미하게 두 선택지 중 하나로 찍는 상태인 것 같군요.</p>\n",
        "<p>그럼 이제 어서, 모델을 학습시켜 보겠습니다! 과연 최종 성능은 어떨까요?! 가보시죠!</p></div><div id=\"block-036ac0cc-7c05-498a-b4b2-00245fc3eff8-jupyter_block\">"
      ]
    },
    {
      "cell_type": "code",
      "execution_count": null,
      "metadata": {
        "id": "OQCy8gDtESk7"
      },
      "outputs": [],
      "source": [
        "EPOCHS = 5   # 이번에는 이전보다 훨씬 빠르게 수렴되므로 5Epoch이면 충분합니다.\n",
        "\n",
        "history = model.fit(train_batches,\n",
        "                    epochs=EPOCHS,\n",
        "                    validation_data=validation_batches)\n"
      ]
    },
    {
      "cell_type": "markdown",
      "metadata": {
        "id": "FGhCsbRJESk7"
      },
      "source": [
        "</div><div class=\"MarkdownView_markdownView__loFxX\"><p>와, 최종 정확도를 좀 보세요! 90%를 넘어섰습니다.</p>\n",
        "<p>그래프로 학습 과정을 살펴봅시다.</p></div><div id=\"block-1a2b7220-026c-4f19-a19f-21da25bd1c61-jupyter_block\">"
      ]
    },
    {
      "cell_type": "code",
      "execution_count": null,
      "metadata": {
        "id": "wh9Kk6XcESk7"
      },
      "outputs": [],
      "source": [
        "acc = history.history['accuracy']\n",
        "val_acc = history.history['val_accuracy']\n",
        "\n",
        "loss = history.history['loss']\n",
        "val_loss = history.history['val_loss']\n",
        "\n",
        "plt.figure(figsize=(16, 8))\n",
        "plt.subplot(1, 2, 1)\n",
        "plt.plot(acc, label='Training Accuracy')\n",
        "plt.plot(val_acc, label='Validation Accuracy')\n",
        "plt.legend(loc='lower right')\n",
        "plt.ylabel('Accuracy')\n",
        "plt.ylim([min(plt.ylim()),1])\n",
        "plt.title('Training and Validation Accuracy')\n",
        "\n",
        "plt.subplot(1, 2, 2)\n",
        "plt.plot(loss, label='Training Loss')\n",
        "plt.plot(val_loss, label='Validation Loss')\n",
        "plt.legend(loc='upper right')\n",
        "plt.ylabel('Cross Entropy')\n",
        "plt.ylim([0,1.0])\n",
        "plt.title('Training and Validation Loss')\n",
        "plt.xlabel('epoch')\n",
        "plt.show()\n"
      ]
    },
    {
      "cell_type": "markdown",
      "metadata": {
        "id": "0OyNf8NeESk8"
      },
      "source": [
        "</div><div class=\"MarkdownView_markdownView__loFxX\"><p>우리가 직접 만들었던 모델과는 다르게 시작부터 75%를 넘는 정확도에서 꾸준히 올라갈뿐더러 <code>validation loss</code>도 매우 안정적으로 학습됩니다.<br/>\n",
        "역시, 잘 학습된 모델을 가져와서 쓰는 게 최고군요!</p>\n",
        "<p>위에서 했던 것과 같이 또 32개의 test sample에 대한 예측 결과를 눈으로도 확인해 보겠습니다.<br/>\n",
        "샘플을 <code>test_batches</code>에서 가져와서 예측 결과를 만들어보죠!</p></div><div id=\"block-520c7bfc-ee7b-46be-80c2-5dac77b3fa25-jupyter_block\">"
      ]
    },
    {
      "cell_type": "code",
      "execution_count": null,
      "metadata": {
        "id": "4DBVJAMqESk8"
      },
      "outputs": [],
      "source": [
        "for image_batch, label_batch in test_batches.take(1):\n",
        "    images = image_batch\n",
        "    labels = label_batch\n",
        "    predictions = model.predict(image_batch)\n",
        "    pass\n",
        "\n",
        "predictions\n"
      ]
    },
    {
      "cell_type": "markdown",
      "metadata": {
        "id": "r9JKt9tvESk8"
      },
      "source": [
        "</div><div class=\"MarkdownView_markdownView__loFxX\"><p>역시 0과 1 사이의 값으로 확률값을 출력하였습니다.</p>\n",
        "<p>이번에도 prediction 값들을 실제 추론한 라벨(고양이:0, 강아지:1)로 변환해 보겠습니다.</p></div><div id=\"block-50054af0-d1b1-4cb0-a0f7-fb32dda67691-jupyter_block\">"
      ]
    },
    {
      "cell_type": "code",
      "execution_count": null,
      "metadata": {
        "id": "thx_1xE4ESk8",
        "colab": {
          "base_uri": "https://localhost:8080/"
        },
        "outputId": "ce54c7a9-db78-4024-db1f-3f7a49f3febc"
      },
      "outputs": [
        {
          "output_type": "execute_result",
          "data": {
            "text/plain": [
              "array([0, 1, 1, 0, 0, 0, 1, 1, 0, 0, 1, 0, 0, 1, 0, 0, 0, 1, 0, 0, 0, 0,\n",
              "       0, 0, 0, 0, 0, 1, 0, 1, 0, 0])"
            ]
          },
          "metadata": {},
          "execution_count": 62
        }
      ],
      "source": [
        "import numpy as np\n",
        "predictions = np.argmax(predictions, axis=1)\n",
        "predictions\n"
      ]
    },
    {
      "cell_type": "markdown",
      "metadata": {
        "id": "QKPELmQDESk8"
      },
      "source": [
        "</div><div class=\"MarkdownView_markdownView__loFxX\"><p>좋습니다! 바로 확인해봅시다.</p></div><div id=\"block-c57c740a-ed7e-4f08-aa40-0d8601e7e3d9-jupyter_block\">"
      ]
    },
    {
      "cell_type": "code",
      "execution_count": null,
      "metadata": {
        "id": "TRu9NItsESk8",
        "colab": {
          "base_uri": "https://localhost:8080/",
          "height": 52
        },
        "outputId": "0964e4f3-77f5-49e2-ce60-6a29216f5732"
      },
      "outputs": [
        {
          "output_type": "execute_result",
          "data": {
            "text/plain": [
              "<Figure size 1440x864 with 0 Axes>"
            ]
          },
          "metadata": {},
          "execution_count": 63
        },
        {
          "output_type": "display_data",
          "data": {
            "text/plain": [
              "<Figure size 1440x864 with 0 Axes>"
            ]
          },
          "metadata": {}
        }
      ],
      "source": [
        "plt.figure(figsize=(20, 12))\n"
      ]
    },
    {
      "cell_type": "markdown",
      "metadata": {
        "id": "eUe0ut4vESk8"
      },
      "source": [
        "</div><div class=\"MarkdownView_markdownView__loFxX\"><p>와! 어떤가요?</p>\n",
        "<p>확실히 아까보다 훨씬 잘 맞추는군요! 어려울 수 있는 이미지들에 대해서도 거의 틀리지 않습니다.<br/>\n",
        "이번에도 32개에 대한 정확도를 확인해볼까요?</p></div><div id=\"block-1b28d933-1021-4c03-8436-73b8315f9a8c-jupyter_block\">"
      ]
    },
    {
      "cell_type": "code",
      "execution_count": null,
      "metadata": {
        "id": "MfGjLJ5SESk8"
      },
      "outputs": [],
      "source": [
        "count = 0\n"
      ]
    },
    {
      "cell_type": "markdown",
      "metadata": {
        "id": "B51sukBWESk8"
      },
      "source": [
        "</div><div class=\"MarkdownView_markdownView__loFxX\"><p>거의 100%에 가까운 정확도를 보여줍니다.</p>\n",
        "<p>이렇게 Transfer Learning의 위력을 실감할 수 있네요. 확실히, 이미지를 분류할 때는 직접 모델을 만들기보다는, 똑똑한 모델을 가져와서 쓰는 편이 낫겠죠?</p></div></div></div>"
      ]
    },
    {
      "cell_type": "markdown",
      "metadata": {
        "id": "VkTF2XlmESk9"
      },
      "source": [
        "<div class=\"StepPage_center__76TTk\"><div class=\"ParserV2_parserV2__DYPIG\"><div class=\"sc-jKJlTe eWxZch contents__title\"><h1 class=\"hchang-content__head\"> 12. 내가 직접 만들지 않고 가져다 쓰는 강아지 고양이 분류기 (5) 잘 학습된 모델은 저장해두고, 언제든 꺼내 쓰도록 하자!</h1></div><div><div class=\"MarkdownView_markdownView__loFxX\"><h3>모델을 save 하고, 다시 load 해와서 사용하는 방법 익히기</h3>\n",
        "<hr/>\n",
        "<p>자, 이제 우리가 많은 시간과 노력을 들여서 모델을 학습시켰으니, 저장하는 법을 알아보겠습니다.</p>\n",
        "<p>열심히 학습시켜서 한 번만 쓰기에는 아까우니까요! 저장해두고 언제든 다시 쓸 수 있다면 좋겠죠.</p>\n",
        "<p>모델을 저장하는 법은 생각보다 아주 간단하답니다!<br/>\n",
        "다음과 같이 <code>save_weights</code> 함수를 활용합니다. 파라미터로 저장하고 싶은 경로만 입력해주면 되죠!</p>\n",
        "<p>다음과 같이 <code>./checkpoint/checkpoint</code> 라는 경로로 저장하게 되면 현재 위치에 있는 <code>checkpoint</code>라는 폴더 내에 <code>checkpoint</code>라는 파일명으로 저장됩니다.<br/>\n",
        "단, checkpoint 폴더가 존재하지 않는다면 에러가 발생하므로, 다음과 같이 터미널을 열어 해당 폴더를 만들어주는 것이 안전합니다.<br/>\n",
        "물론 다른 경로에, 다른 이름으로 저장해도 됩니다!</p></div><div id=\"block-bf74e807-3982-40ce-8fbe-34f70d8dfb94-jupyter_block\">"
      ]
    },
    {
      "cell_type": "code",
      "execution_count": null,
      "metadata": {
        "id": "3n8rDxlsESk9"
      },
      "outputs": [],
      "source": [
        "!mkdir -p ~/hchang/cat_vs_dog/checkpoint\n",
        "!mkdir -p ~/hchang/cat_vs_dog/images\n"
      ]
    },
    {
      "cell_type": "markdown",
      "metadata": {
        "id": "ebHCqY3pESk9"
      },
      "source": [
        "</div><div id=\"block-5c220ed9-f38d-4522-b877-507bf64b34bd-jupyter_block\">"
      ]
    },
    {
      "cell_type": "code",
      "execution_count": null,
      "metadata": {
        "id": "bnjJL2HeESk9"
      },
      "outputs": [],
      "source": [
        "import os\n",
        "\n",
        "checkpoint_dir = os.getenv(\"HOME\") + \"/hchang/cat_vs_dog/checkpoint\"\n",
        "checkpoint_file_path = os.path.join(checkpoint_dir\n",
        ", 'checkpoint')\n",
        "\n",
        "if not os.path.exists('checkpoint_dir'):\n",
        "    os.mkdir('checkpoint_dir')\n",
        "    \n",
        "model.save_weights(checkpoint_file_path)     # checkpoint 파일 생성\n",
        "\n",
        "if os.path.exists(checkpoint_file_path):\n",
        "  print('checkpoint 파일 생성 OK!!')\n"
      ]
    },
    {
      "cell_type": "markdown",
      "metadata": {
        "id": "XYJIfEC1ESk9"
      },
      "source": [
        "</div></div></div>"
      ]
    },
    {
      "cell_type": "markdown",
      "metadata": {
        "id": "0hzeUka7ESk9"
      },
      "source": [
        "<div class=\"StepPage_center__76TTk\"><div class=\"ParserV2_parserV2__DYPIG\"><div class=\"sc-jKJlTe eWxZch contents__title\"><h1 class=\"hchang-content__head\"> 13. 내가 직접 만들지 않고 가져다 쓰는 강아지 고양이 분류기 (6) 거울아 거울아, 나는 멍멍이 상이니, 아니면 냥이 상이니?</h1></div><div><div class=\"MarkdownView_markdownView__loFxX\"><h3>학습된 모델에 원하는 이미지를 입력해 예측 결과 확인해 보기</h3>\n",
        "<hr/>\n",
        "<p>자, 이제 드디어 마지막 단계입니다!<br/>\n",
        "우리는 강아지와 고양이를 분류하는 모델을 학습시켰죠. 그렇다면 여기에 우리가 원하는 이미지를 넣어서 예측을 시켜볼 수도 있을까요?!</p>\n",
        "<p>물론 가능합니다! 원하는 이미지를 저장해서 모델의 예측 결과를 확인하는 실습을 해 보도록 하겠습니다.<br/>\n",
        "여러분은 어떤 이미지를 모델에게 입력해 보고 싶은가요?</p></div><div class=\"MarkdownView_markdownView__loFxX\"><p>프리픽(<a href=\"https://www.freepik.com\" target=\"_blank\">Freepik</a>)에서 구해온 강아지와 고양이의 이미지를 넣어보도록 하겠습니다. 잘 맞출지, 기대가 되는군요! 아래 명령어를 통해 준비된 이미지를 연결해 주세요.</p></div><div id=\"block-ae0ec980-0000-44c5-a4d4-c0c50098118b-jupyter_block\">"
      ]
    },
    {
      "cell_type": "code",
      "execution_count": null,
      "metadata": {
        "id": "DIMRlEeZESk9"
      },
      "outputs": [],
      "source": [
        "!ln -s ~/data/* ~/hchang/cat_vs_dog/images/\n"
      ]
    },
    {
      "cell_type": "markdown",
      "metadata": {
        "id": "1WbXDRvJESk9"
      },
      "source": [
        "</div><div class=\"MarkdownView_markdownView__loFxX\"><p>이미지 파일이 준비 되었다면, 이제 <code>tensorflow</code> 모델에 입력해주기 위해 <code>load_img</code>, <code>img_to_array</code> 함수를 가져오도록 하겠습니다.</p></div><div id=\"block-be4bc48e-04eb-4b4e-aff0-54c20917866a-jupyter_block\">"
      ]
    },
    {
      "cell_type": "code",
      "execution_count": null,
      "metadata": {
        "id": "YhD_nCdwESk9"
      },
      "outputs": [],
      "source": [
        "from tensorflow.keras.preprocessing.image import load_img, img_to_array\n"
      ]
    },
    {
      "cell_type": "markdown",
      "metadata": {
        "id": "15bMrQbQESk9"
      },
      "source": [
        "</div><div class=\"MarkdownView_markdownView__loFxX\"><p>이제 이미지를 가져와보죠!<br/>\n",
        "단, 우리의 모델은 위에서 설정했다시피 <code>(160, 160)</code> 사이즈만 입력받을 수 있기 때문에 파라미터로 이미지 사이즈를 넣어주어야 합니다.</p></div><div id=\"block-e42a4d80-8670-45e9-b5a1-7db1bb15f9c7-jupyter_block\">"
      ]
    },
    {
      "cell_type": "code",
      "execution_count": null,
      "metadata": {
        "id": "SVPUrYTMESk-"
      },
      "outputs": [],
      "source": [
        "IMG_SIZE = 160\n",
        "img_dir_path = os.getenv(\"HOME\") + \"/hchang/cat_vs_dog/images\"\n",
        "dog_image_path = os.path.join(img_dir_path, 'my_dog.jpg')\n",
        "\n",
        "dog_image = load_img(dog_image_path, target_size=(IMG_SIZE, IMG_SIZE))\n",
        "dog_image\n"
      ]
    },
    {
      "cell_type": "markdown",
      "metadata": {
        "id": "qgqG5nSYESk-"
      },
      "source": [
        "</div><div class=\"MarkdownView_markdownView__loFxX\"><p>네, 이미지도 잘 가져왔고, 사이즈도 적당히 맞춰진 것 같군요!<br/>\n",
        "그러면 이제 모델에 넣을 수 있도록 이미지를 <code>array</code>, 즉 배열 자료형으로 변환해주겠습니다.</p></div><div id=\"block-49c15d86-a6d0-4bd5-86c3-e334f3770be2-jupyter_block\">"
      ]
    },
    {
      "cell_type": "code",
      "execution_count": null,
      "metadata": {
        "id": "of-k4RYDESk-"
      },
      "outputs": [],
      "source": [
        "dog_image = img_to_array(dog_image).reshape(1, IMG_SIZE, IMG_SIZE, 3)\n",
        "dog_image.shape\n"
      ]
    },
    {
      "cell_type": "markdown",
      "metadata": {
        "id": "0_HJoEgeESk-"
      },
      "source": [
        "</div><div class=\"MarkdownView_markdownView__loFxX\"><p>위에서 많이 사용했던 이미지 데이터의 shape와 같죠? 다만, 이번에는 이미지가 단 한 장이니 맨 앞의 숫자가 1이 됩니다.</p>\n",
        "<p>그러면 이미지를 모델에 넣어 예측해볼까요?!<br/>\n",
        "고양이라면 [1.0, 0.0], 강아지라면 [0.0, 1.0]에 가까운 확률 분포가 예측될 것입니다. 결과는 어떨까요?</p></div><div id=\"block-a6c55631-be80-4cf1-a2d5-1e2a0a86c23b-jupyter_block\">"
      ]
    },
    {
      "cell_type": "code",
      "execution_count": null,
      "metadata": {
        "id": "bSKRL7sjESk-"
      },
      "outputs": [],
      "source": [
        "prediction = model.predict(dog_image)\n",
        "prediction\n"
      ]
    },
    {
      "cell_type": "markdown",
      "metadata": {
        "id": "ZtopwVyjESk-"
      },
      "source": [
        "</div><div class=\"MarkdownView_markdownView__loFxX\"><p>강아지일 확률이 아주 확고한 1.0이군요. 너무 쉬운가봅니다.</p>\n",
        "<p>위의 과정을 함수로 만들어 원하는 이미지를 자유자재로 예측해 보도록 하겠습니다.</p></div><div id=\"block-fa28d233-50a3-4555-8e5a-1cb91c1899ea-jupyter_block\">"
      ]
    },
    {
      "cell_type": "code",
      "execution_count": null,
      "metadata": {
        "id": "Ya9bJ4k1ESk-"
      },
      "outputs": [],
      "source": [
        "def show_and_predict_image(dirpath, filename, img_size=160):\n",
        "    filepath = os.path.join(dirpath, filename)\n",
        "    image = load_img(filepath, target_size=(img_size, img_size))\n",
        "    plt.imshow(image)\n",
        "    plt.axis('off')\n",
        "    image = img_to_array(image).reshape(1, img_size, img_size, 3)\n",
        "    prediction = model.predict(image)[0]\n",
        "    cat_percentage = round(prediction[0] * 100)\n",
        "    dog_percentage = round(prediction[1] * 100)\n",
        "    print(f\"This image seems {dog_percentage}% dog, and {cat_percentage}% cat.\")\n"
      ]
    },
    {
      "cell_type": "markdown",
      "metadata": {
        "id": "F_qqnbEXESk-"
      },
      "source": [
        "</div><div class=\"MarkdownView_markdownView__loFxX\"><p>위와 같이 함수를 짜두면 <code>filename</code>만 바꾸어 원하는대로 실험해볼 수 있습니다.</p>\n",
        "<p>강아지 이미지를 함수에 넣어봅시다.</p></div><div id=\"block-810174a1-c550-46e9-8762-2f783b31bd3f-jupyter_block\">"
      ]
    },
    {
      "cell_type": "code",
      "execution_count": null,
      "metadata": {
        "id": "uah_AyeWESk-"
      },
      "outputs": [],
      "source": [
        "filename = 'my_dog.jpg'\n",
        "\n",
        "show_and_predict_image(img_dir_path, filename)\n"
      ]
    },
    {
      "cell_type": "markdown",
      "metadata": {
        "id": "OtYiQ0YwESk_"
      },
      "source": [
        "</div><div class=\"MarkdownView_markdownView__loFxX\"><p>그렇다면 이번에는 고양이를 예측해볼까요?</p></div><div id=\"block-0bcb4e19-5e03-439a-84fc-1a5626e105d4-jupyter_block\">"
      ]
    },
    {
      "cell_type": "code",
      "execution_count": null,
      "metadata": {
        "id": "Vf1pEDumESk_"
      },
      "outputs": [],
      "source": [
        "filename = 'my_cat.jpg'\n",
        "\n",
        "show_and_predict_image(img_dir_path, filename)\n"
      ]
    },
    {
      "cell_type": "markdown",
      "metadata": {
        "id": "MHxZSxDzESk_"
      },
      "source": [
        "</div><div class=\"MarkdownView_markdownView__loFxX\"><p>고양이 또한 100%의 정확도로 맞추는군요. 그러면 이제 사람의 얼굴을 넣어봅시다.</p>\n",
        "<p>고양이상으로 보이는 얼굴의 경우는 어떨까요?</p></div><div id=\"block-9e512dba-8aec-40aa-a07b-b0c1182045d0-jupyter_block\">"
      ]
    },
    {
      "cell_type": "code",
      "execution_count": null,
      "metadata": {
        "id": "Rovh91w8ESk_"
      },
      "outputs": [],
      "source": [
        "filename = \"cat_face.jpg\"\n"
      ]
    },
    {
      "cell_type": "markdown",
      "metadata": {
        "id": "PGawHVzuESk_"
      },
      "source": [
        "</div><div class=\"MarkdownView_markdownView__loFxX\"><p>어떤가요?! 여러분도 여러분이 원하는 이미지를 넣어서 예측해 보세요!<br/>\n",
        "여러분의 사진을 넣으면 어떤 결과가 나오나요? 강아지 상인가요, 아니면 고양이 상인가요?</p></div></div></div>"
      ]
    },
    {
      "cell_type": "markdown",
      "metadata": {
        "id": "gyCausDNESk_"
      },
      "source": [
        "<div class=\"StepPage_center__76TTk\"><div class=\"ParserV2_parserV2__DYPIG\"><div class=\"sc-jKJlTe eWxZch contents__title\"><h1 class=\"hchang-content__head\"> 14. 프로젝트: 새로운 데이터셋으로 나만의 이미지 분류기 만들어보기</h1></div><div><div class=\"MarkdownView_markdownView__loFxX\"><p>자, 이제 여러분의 차례입니다.<br/>\n",
        "지금까지 진행했던 모든 과정을 통째로 활용해서, 새로운 데이터셋에 대해 여러분의 직접 모델을 만들어 볼 것입니다.</p>\n",
        "<p>다음에 제안된 순서는 모두 위에서 진행했던 과정의 일부입니다. 몇 가지 코드만 수정하면 성공적으로 프로젝트를 진행할 수 있을 것입니다.<br/>\n",
        "진행하다가 혹시 도움이 필요하다면 위에서 진행했던 실습 코드를 다시 참고하세요! 모든 해답은 그 안에 있습니다.</p>\n",
        "<p>그러면, 시작해볼까요!</p>\n",
        "<h3>Step 1. 데이터셋 내려받기</h3>\n",
        "<hr/>\n",
        "<ul>\n",
        "<li>이번에는 <code>tensorflow_datasets</code> 에 포함된 <code>tf_flowers</code> 데이터를 사용해 보겠습니다. <code>tf_flowers</code> 데이터에 대한 정보는 다음에서 확인해볼 수 있습니다.</li>\n",
        "<li><code>tfds.load</code>를 활용하여 데이터셋을 다운받으세요.</li>\n",
        "</ul>\n",
        "<p><a href=\"https://www.tensorflow.org/datasets/catalog/tf_flowers\" target=\"_blank\">https://www.tensorflow.org/datasets/catalog/tf_flowers</a></p>\n",
        "<h3>Step 2. 데이터셋을 모델에 넣을 수 있는 형태로 준비하기</h3>\n",
        "<hr/>\n",
        "<ul>\n",
        "<li>이미지를 모두 같은 크기로 formatting 한 후, <code>train_batches</code>, <code>validation_batches</code>, <code>test_batches</code>를 준비합니다.</li>\n",
        "</ul>\n",
        "<h3>Step 3. 모델 설계하기</h3>\n",
        "<hr/>\n",
        "<ul>\n",
        "<li>모델은 어떤 방식으로 설계하고 싶은가요? 나만의 모델을 만들 것인가요, 아니면 <code>base_model</code>을 활용할 것인가요?</li>\n",
        "<li>원하는 방식으로 모델을 만들어 보세요!</li>\n",
        "<li><code>cats_vs_dogs</code> 의 경우와 달리, <code>tf_flowers</code> 데이터셋에서는 class의 갯수가 5가지입니다. 모델 설계시 어느 부분이 달라질지에 유의해 주세요.</li>\n",
        "</ul>\n",
        "<h3>Step 4. 모델 학습시키기</h3>\n",
        "<hr/>\n",
        "<ul>\n",
        "<li>모델을 학습시켜봅니다. 단, 여기에서는 여러 가지 옵션을 바꿔볼 수 있습니다.</li>\n",
        "<li>예를 들어, 모델 학습을 10 epoch보다 더 많이 시켜보거나, <code>learning_rate</code> 값을 바꿔볼 수 있습니다.</li>\n",
        "<li>또는, <code>optimizer</code>의 종류도 바꿔볼 수 있습니다. 바꿔보고 싶다면, <a href=\"https://www.tensorflow.org/api_docs/python/tf/keras/optimizers\" target=\"_blank\">여기</a>를 참고하세요.</li>\n",
        "<li>어쩌면 VGG16이 아닌 다른 모델을 base model로 활용할 수도 있을 것입니다. 그리고 파인튜닝을 fc layer의 구성에 변화를 줄 수 있을지도 모릅니다.</li>\n",
        "<li>이전 스텝에서는 시도하지 않았던 Regularization 기법이 적용된다면 어떨까요? Dropout이나 Batch Normalization을 적용하는 것은 그리 어려운 일이 아닙니다.</li>\n",
        "</ul>\n",
        "<h3>Step 5. 모델 성능 평가하기</h3>\n",
        "<hr/>\n",
        "<ul>\n",
        "<li>모델 학습이 완료되었다면, 모델의 성능을 평가할 차례입니다.</li>\n",
        "<li>모델이 학습된 과정을 그래프로도 그려보고, <code>validation_batches</code>나 <code>test_batches</code>에 있는 데이터에 대한 예측 결과도 확인해 보세요!</li>\n",
        "</ul>\n",
        "<h3>Step 6. 모델 활용하기</h3>\n",
        "<hr/>\n",
        "<ul>\n",
        "<li>모델이 꽤나 똑똑해졌다면, 이제 활용해볼 수 있습니다.</li>\n",
        "<li>원하는 이미지를 자유롭게 모델에 입력해 보고, 어떤 예측 결과를 내는지 확인해 보세요!</li>\n",
        "</ul></div></div></div>"
      ]
    }
  ],
  "metadata": {
    "colab": {
      "provenance": [],
      "include_colab_link": true
    },
    "gpuClass": "standard",
    "kernelspec": {
      "display_name": "Python 3.10.6 ('env')",
      "language": "python",
      "name": "python3"
    },
    "language_info": {
      "codemirror_mode": {
        "name": "ipython",
        "version": 3
      },
      "file_extension": ".py",
      "mimetype": "text/x-python",
      "name": "python",
      "nbconvert_exporter": "python",
      "pygments_lexer": "ipython3",
      "version": "3.10.6"
    },
    "vscode": {
      "interpreter": {
        "hash": "a39879ae9ccb927afc0cf2ce944a9e89e93d1a75059893b60dcfa8646ca8faf1"
      }
    }
  },
  "nbformat": 4,
  "nbformat_minor": 0
}